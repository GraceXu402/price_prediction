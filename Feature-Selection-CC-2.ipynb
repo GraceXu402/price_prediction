{
 "cells": [
  {
   "cell_type": "code",
   "execution_count": 1,
   "id": "3c48bace",
   "metadata": {},
   "outputs": [],
   "source": [
    "import pandas as pd\n",
    "import numpy as np\n",
    "import matplotlib.pyplot as plt\n",
    "import seaborn as sns\n",
    "import os\n",
    "import glob\n",
    "import re\n",
    "import datetime\n",
    "import pickle\n",
    "import matplotlib.pyplot as plt\n",
    "from sklearn.model_selection import train_test_split\n",
    "from sklearn.linear_model import LinearRegression\n",
    "from sklearn.metrics import mean_squared_error\n",
    "from sklearn.feature_selection import SelectKBest, f_regression\n",
    "import statsmodels.api as sm\n",
    "from statsmodels.graphics.tsaplots import plot_acf\n",
    "from scipy.stats import norm, probplot\n",
    "from scipy.stats import norm\n",
    "import statsmodels.api as sm\n",
    "from statsmodels.tsa.ar_model import AutoReg\n",
    "from arch.unitroot import VarianceRatio\n",
    "import scipy.stats as stats\n",
    "from statsmodels.tsa.stattools import adfuller \n",
    "from scipy.stats import genpareto\n",
    "from sklearn.utils import resample\n",
    "from scipy.optimize import minimize\n",
    "from scipy.special import expit, logit\n",
    "from sklearn.linear_model import LogisticRegression\n",
    "from statsmodels.tools.sm_exceptions import ConvergenceWarning\n",
    "from scipy.optimize import minimize\n",
    "from scipy.stats import genpareto\n",
    "from scipy.optimize import differential_evolution\n",
    "from sklearn.decomposition import PCA\n",
    "from sklearn.linear_model import Ridge\n",
    "from scipy.optimize import differential_evolution\n",
    "from scipy.stats import gumbel_r\n",
    "from statsmodels.graphics.tsaplots import plot_acf\n",
    "from sklearn.preprocessing import StandardScaler\n",
    "from sklearn.ensemble import RandomForestRegressor\n",
    "from sklearn.feature_selection import mutual_info_regression\n",
    "from sklearn.feature_selection import RFE\n",
    "import ta\n",
    "import shap\n",
    "from xgboost.callback import EarlyStopping\n",
    "from sklearn.linear_model import LogisticRegression\n",
    "from sklearn.metrics import classification_report\n",
    "from sklearn.metrics import confusion_matrix\n",
    "from sklearn.metrics import roc_auc_score, roc_curve\n",
    "from sklearn.preprocessing import label_binarize\n",
    "from sklearn.metrics import precision_recall_curve, average_precision_score\n",
    "from sklearn.preprocessing import label_binarize\n",
    "from sklearn.feature_selection import mutual_info_classif\n",
    "from sklearn.preprocessing import LabelEncoder\n",
    "\n",
    "import warnings\n",
    "warnings.simplefilter(action='ignore', category=FutureWarning)\n",
    "warnings.filterwarnings(\"ignore\", category=ConvergenceWarning)"
   ]
  },
  {
   "cell_type": "markdown",
   "id": "71f7e956",
   "metadata": {},
   "source": [
    "### Import Data"
   ]
  },
  {
   "cell_type": "code",
   "execution_count": 2,
   "id": "5e0c262a",
   "metadata": {},
   "outputs": [
    {
     "ename": "KeyError",
     "evalue": "\"['number_of_trades'] not in index\"",
     "output_type": "error",
     "traceback": [
      "\u001b[0;31m---------------------------------------------------------------------------\u001b[0m",
      "\u001b[0;31mKeyError\u001b[0m                                  Traceback (most recent call last)",
      "Cell \u001b[0;32mIn[2], line 19\u001b[0m\n\u001b[1;32m     16\u001b[0m columns_for_normalization \u001b[38;5;241m=\u001b[39m [\u001b[38;5;124m'\u001b[39m\u001b[38;5;124mvolume\u001b[39m\u001b[38;5;124m'\u001b[39m, \u001b[38;5;124m'\u001b[39m\u001b[38;5;124mnumber_of_trades\u001b[39m\u001b[38;5;124m'\u001b[39m]\n\u001b[1;32m     18\u001b[0m scaler \u001b[38;5;241m=\u001b[39m StandardScaler()\n\u001b[0;32m---> 19\u001b[0m btc_min_return\u001b[38;5;241m.\u001b[39mloc[:, columns_for_normalization] \u001b[38;5;241m=\u001b[39m scaler\u001b[38;5;241m.\u001b[39mfit_transform(\u001b[43mbtc_min_return\u001b[49m\u001b[43m[\u001b[49m\u001b[43mcolumns_for_normalization\u001b[49m\u001b[43m]\u001b[49m)\n\u001b[1;32m     20\u001b[0m btc_min_return\u001b[38;5;241m.\u001b[39mdrop(columns\u001b[38;5;241m=\u001b[39m[\u001b[38;5;124m'\u001b[39m\u001b[38;5;124mtaker_buy_base_asset_volume\u001b[39m\u001b[38;5;124m'\u001b[39m, \u001b[38;5;124m'\u001b[39m\u001b[38;5;124mtaker_buy_quote_asset_volume\u001b[39m\u001b[38;5;124m'\u001b[39m,\u001b[38;5;124m'\u001b[39m\u001b[38;5;124mquote_asset_volume\u001b[39m\u001b[38;5;124m'\u001b[39m],inplace\u001b[38;5;241m=\u001b[39m\u001b[38;5;28;01mTrue\u001b[39;00m)\n",
      "File \u001b[0;32m~/opt/anaconda3/envs/myenv/lib/python3.8/site-packages/pandas/core/frame.py:3813\u001b[0m, in \u001b[0;36mDataFrame.__getitem__\u001b[0;34m(self, key)\u001b[0m\n\u001b[1;32m   3811\u001b[0m     \u001b[38;5;28;01mif\u001b[39;00m is_iterator(key):\n\u001b[1;32m   3812\u001b[0m         key \u001b[38;5;241m=\u001b[39m \u001b[38;5;28mlist\u001b[39m(key)\n\u001b[0;32m-> 3813\u001b[0m     indexer \u001b[38;5;241m=\u001b[39m \u001b[38;5;28;43mself\u001b[39;49m\u001b[38;5;241;43m.\u001b[39;49m\u001b[43mcolumns\u001b[49m\u001b[38;5;241;43m.\u001b[39;49m\u001b[43m_get_indexer_strict\u001b[49m\u001b[43m(\u001b[49m\u001b[43mkey\u001b[49m\u001b[43m,\u001b[49m\u001b[43m \u001b[49m\u001b[38;5;124;43m\"\u001b[39;49m\u001b[38;5;124;43mcolumns\u001b[39;49m\u001b[38;5;124;43m\"\u001b[39;49m\u001b[43m)\u001b[49m[\u001b[38;5;241m1\u001b[39m]\n\u001b[1;32m   3815\u001b[0m \u001b[38;5;66;03m# take() does not accept boolean indexers\u001b[39;00m\n\u001b[1;32m   3816\u001b[0m \u001b[38;5;28;01mif\u001b[39;00m \u001b[38;5;28mgetattr\u001b[39m(indexer, \u001b[38;5;124m\"\u001b[39m\u001b[38;5;124mdtype\u001b[39m\u001b[38;5;124m\"\u001b[39m, \u001b[38;5;28;01mNone\u001b[39;00m) \u001b[38;5;241m==\u001b[39m \u001b[38;5;28mbool\u001b[39m:\n",
      "File \u001b[0;32m~/opt/anaconda3/envs/myenv/lib/python3.8/site-packages/pandas/core/indexes/base.py:6070\u001b[0m, in \u001b[0;36mIndex._get_indexer_strict\u001b[0;34m(self, key, axis_name)\u001b[0m\n\u001b[1;32m   6067\u001b[0m \u001b[38;5;28;01melse\u001b[39;00m:\n\u001b[1;32m   6068\u001b[0m     keyarr, indexer, new_indexer \u001b[38;5;241m=\u001b[39m \u001b[38;5;28mself\u001b[39m\u001b[38;5;241m.\u001b[39m_reindex_non_unique(keyarr)\n\u001b[0;32m-> 6070\u001b[0m \u001b[38;5;28;43mself\u001b[39;49m\u001b[38;5;241;43m.\u001b[39;49m\u001b[43m_raise_if_missing\u001b[49m\u001b[43m(\u001b[49m\u001b[43mkeyarr\u001b[49m\u001b[43m,\u001b[49m\u001b[43m \u001b[49m\u001b[43mindexer\u001b[49m\u001b[43m,\u001b[49m\u001b[43m \u001b[49m\u001b[43maxis_name\u001b[49m\u001b[43m)\u001b[49m\n\u001b[1;32m   6072\u001b[0m keyarr \u001b[38;5;241m=\u001b[39m \u001b[38;5;28mself\u001b[39m\u001b[38;5;241m.\u001b[39mtake(indexer)\n\u001b[1;32m   6073\u001b[0m \u001b[38;5;28;01mif\u001b[39;00m \u001b[38;5;28misinstance\u001b[39m(key, Index):\n\u001b[1;32m   6074\u001b[0m     \u001b[38;5;66;03m# GH 42790 - Preserve name from an Index\u001b[39;00m\n",
      "File \u001b[0;32m~/opt/anaconda3/envs/myenv/lib/python3.8/site-packages/pandas/core/indexes/base.py:6133\u001b[0m, in \u001b[0;36mIndex._raise_if_missing\u001b[0;34m(self, key, indexer, axis_name)\u001b[0m\n\u001b[1;32m   6130\u001b[0m     \u001b[38;5;28;01mraise\u001b[39;00m \u001b[38;5;167;01mKeyError\u001b[39;00m(\u001b[38;5;124mf\u001b[39m\u001b[38;5;124m\"\u001b[39m\u001b[38;5;124mNone of [\u001b[39m\u001b[38;5;132;01m{\u001b[39;00mkey\u001b[38;5;132;01m}\u001b[39;00m\u001b[38;5;124m] are in the [\u001b[39m\u001b[38;5;132;01m{\u001b[39;00maxis_name\u001b[38;5;132;01m}\u001b[39;00m\u001b[38;5;124m]\u001b[39m\u001b[38;5;124m\"\u001b[39m)\n\u001b[1;32m   6132\u001b[0m not_found \u001b[38;5;241m=\u001b[39m \u001b[38;5;28mlist\u001b[39m(ensure_index(key)[missing_mask\u001b[38;5;241m.\u001b[39mnonzero()[\u001b[38;5;241m0\u001b[39m]]\u001b[38;5;241m.\u001b[39munique())\n\u001b[0;32m-> 6133\u001b[0m \u001b[38;5;28;01mraise\u001b[39;00m \u001b[38;5;167;01mKeyError\u001b[39;00m(\u001b[38;5;124mf\u001b[39m\u001b[38;5;124m\"\u001b[39m\u001b[38;5;132;01m{\u001b[39;00mnot_found\u001b[38;5;132;01m}\u001b[39;00m\u001b[38;5;124m not in index\u001b[39m\u001b[38;5;124m\"\u001b[39m)\n",
      "\u001b[0;31mKeyError\u001b[0m: \"['number_of_trades'] not in index\""
     ]
    }
   ],
   "source": [
    "btc = pd.read_csv(r'/Users/xiaoyuxu/Desktop/Dissertation-docts/bitcoin_2017_to_2023.csv').iloc[::-1]\n",
    "btc.set_index(btc.columns[0], inplace=True)\n",
    "btc = btc[~btc.index.duplicated(keep='first')]\n",
    "btc.index = pd.to_datetime(btc.index)\n",
    "\n",
    "btc_min_return = pd.read_csv('btc_min_return_selected.csv')\n",
    "btc_min_return.index =pd.to_datetime(btc_min_return['timestamp'])\n",
    "btc_min_return.drop(columns=['timestamp'],inplace=True)\n",
    "\n",
    "append_features=btc.columns.to_list()\n",
    "append_features.remove('close')\n",
    "append_features.remove('volume')\n",
    "\n",
    "btc_min_return=pd.merge(btc[append_features], btc_min_return, left_index=True, right_index=True, how='inner')\n",
    "\n",
    "columns_for_normalization = ['volume', 'number_of_trades']\n",
    "\n",
    "scaler = StandardScaler()\n",
    "btc_min_return.loc[:, columns_for_normalization] = scaler.fit_transform(btc_min_return[columns_for_normalization])\n",
    "btc_min_return.drop(columns=['taker_buy_base_asset_volume', 'taker_buy_quote_asset_volume','quote_asset_volume'],inplace=True)"
   ]
  },
  {
   "cell_type": "markdown",
   "id": "136705b2",
   "metadata": {},
   "source": [
    "### Additional Feature: Realized Semi-Variance"
   ]
  },
  {
   "cell_type": "markdown",
   "id": "d5cc5927",
   "metadata": {},
   "source": [
    "- Realized Semi-variance (RS): a new measure of the variation of asset prices based on high frequency data. We shall derive its limiting properties, relating it to quadratic variation and nagetive jumps. \n",
    "\n",
    "- Mathematically, RV estimates the ex-post variance of log asset prices Y over a fixed time period:\n",
    "\n",
    "$RV = \\sum_{j=1}^n (Y_{t_j} - Y_{t_{j-1}})^2$;\n",
    "\n",
    "s.t. $(Y_t)$ is a semi-martingale:\n",
    "\n",
    "$Y_t = M_t + A_t = \\int_0^t \\sigma_s d W_s + \\int_0^t a_s d s$;\n",
    "\n",
    "where $M$ is the local Martingale and $A$ is the predictable finite variation process. \n",
    "\n",
    "This estimator converges as we have more and more data in that interval to the quadratic variation:\n",
    "\n",
    "$[Y]_1 = \\lim_{n \\rightarrow \\infty} \\sum_{j=1}^n (Y_{t_j} - Y_{t_{j-1}})^2$;\n",
    "\n",
    "and\n",
    "\n",
    "$[Y]_t = \\int_0^t \\sigma_s d W_s + \\int_0^t a_s d s \\quad \\text{and} \\quad d [Y]_t = \\sigma_t^2 d t$.\n",
    "\n",
    "i.e. for a Brownian semi-martingale the QV process tells us everthing we can know about the ex-post variation of $Y$.\n",
    "\n",
    "However, if there are jumps:\n",
    "\n",
    "$Y_t = \\int_0^t \\sigma_s d W_s + \\int_0^t a_s d s + J_t$;\n",
    "\n",
    "and\n",
    "\n",
    "$[Y]_t = \\int_0^t \\sigma_s^2 d s + \\sum_{s \\leq t} (\\triangle Y_s)^2$\n",
    "\n",
    "with $ \\triangle Y_t = Y_t - Y_{t-1}$.\n",
    "\n",
    "The downside realized semi-variance is defined as:\n",
    "\n",
    "$RS^- = \\sum_{j=1}^n (Y_{t_j} - Y_{t_{j-1}})^2 \\mathbb{1}_{Y_{t_j} - Y_{t_{j-1}} \\leq 0}$;\n",
    "\n",
    "s.t.\n",
    "\n",
    "$RS^- \\rightarrow \\frac{1}{2} \\int_0^1 \\sigma_s^2 d s + \\sum_{s \\leq 1} (\\triangle Y_s)^2 \\mathbb{1}_{\\triangle Y_s \\leq 0}$.\n",
    "\n",
    "And of course: $RV = RS^- + RS^+$.\n",
    "\n",
    "Practiacally, we choose to measure returns using log-scale and multiplied by 100 and measure realized volatility based upon retursn calculated every 15 trades. The argument here to add $RS^-$ into the set of features is due to the argument that: negative shocks tend to increase future volatility more than positive shocks of the same magnitude - presumably because the high frequency falls increase the risk premium. (Woth of run the t-test to check the significance of $RS^-$ and lagged $RS^-$ as the evaluation metric of the prediction power.)\n",
    "\n",
    "\n",
    "\n",
    "\n",
    "\n"
   ]
  },
  {
   "cell_type": "markdown",
   "id": "e3f73ca6",
   "metadata": {},
   "source": [
    "### Additional Feature: Realized Bipower Variation "
   ]
  },
  {
   "cell_type": "markdown",
   "id": "be772039",
   "metadata": {},
   "source": [
    "Mathematically, the realized bipower variation is defined as:\n",
    "\n",
    "$BPV = \\frac{1}{\\mu_1^2} \\sum_{j=2}^{t_j \\leq t} |Y_{t_j} - Y_{t_{j-1}}| |Y_{t_{j-1}} - Y_{t_{j-2}}| \\rightarrow \\{Y\\}_t^{[1,1]} = \\int_0^t \\sigma_s^2 d s$;\n",
    "\n",
    "where \n",
    "\n",
    "$\\mu_1 = \\mathbb{E} |U| \\quad U \\sim \\mathcal{N}(0,1)$.\n",
    "\n",
    "i.e.\n",
    "\n",
    "$RV - BPV \\rightarrow [Y]_1 - \\{Y\\}^{[1,1]} = \\sum_{s \\leq t} (\\triangle Y_s)^2$."
   ]
  },
  {
   "cell_type": "code",
   "execution_count": 16,
   "id": "6772aa84",
   "metadata": {},
   "outputs": [],
   "source": [
    "# Function to calculate downside realized semi-variance (RS_neg)\n",
    "def downside_realized_semi_variance(returns):\n",
    "    returns = returns*100\n",
    "    negative_returns = returns[returns < 0]\n",
    "    if len(negative_returns) == 0:\n",
    "        return 0\n",
    "    squared_negative_returns = negative_returns ** 2\n",
    "    RS_neg = squared_negative_returns.sum() / len(negative_returns)\n",
    "    return RS_neg\n",
    "\n",
    "window_size = 15\n",
    "btc_min_return['RS_neg'] = btc_min_return['return'].rolling(window=window_size).apply(downside_realized_semi_variance, raw=True)"
   ]
  },
  {
   "cell_type": "code",
   "execution_count": 17,
   "id": "0b42b640",
   "metadata": {},
   "outputs": [],
   "source": [
    "def realized_bipower_variation(returns):\n",
    "    returns = returns*100\n",
    "    abs_returns = np.abs(returns)\n",
    "    product_sum = np.sum(abs_returns[:-1] * abs_returns[1:])\n",
    "    BPV = (np.pi / 2) * product_sum\n",
    "    return BPV\n",
    "\n",
    "btc_min_return['BPV'] = btc_min_return['return'].rolling(window=window_size).apply(realized_bipower_variation, raw=True)"
   ]
  },
  {
   "cell_type": "code",
   "execution_count": 18,
   "id": "26bbf883",
   "metadata": {},
   "outputs": [],
   "source": [
    "btc_min_return['RS'] = (btc_min_return['return']*100).rolling(window=15).sum()"
   ]
  },
  {
   "cell_type": "code",
   "execution_count": 19,
   "id": "8274ce13",
   "metadata": {},
   "outputs": [],
   "source": [
    "btc_min_return['JP'] = btc_min_return['RS'] - btc_min_return['BPV']"
   ]
  },
  {
   "cell_type": "markdown",
   "id": "ded8aff4",
   "metadata": {},
   "source": [
    "### Generate Basic Features"
   ]
  },
  {
   "cell_type": "markdown",
   "id": "41f624c6",
   "metadata": {},
   "source": [
    "- Exponential Weighted Moving Average (EWMA)\n",
    "\n",
    "$EWMA_t = \\alpha \\cdot r_t + (1-\\alpha) \\cdot EWMA_{t-1}$.\n",
    "\n",
    "- Moving Average Convergence Divergence (MACD)\n",
    "\n",
    "$MACD_t = EMA_{12,t} - EMA_{26, t} \\quad Signal_t = EMA_{9, MACD_t}$.\n",
    "\n",
    "- Relative Strength Index (RSI)\n",
    "\n",
    "RSI is a momentum oscillator that measures the speed and change of price movements and used to identify overbought and oversold.\n",
    "\n",
    "$RS = \\frac{AG}{AL} \\quad RSI = 100 - \\frac{100}{1+RS}$;\n",
    "\n",
    "where $AG$ and $AL$ are the average gain and loss over a specified period, typically $14$.\n",
    "\n",
    "- Bollinger Bands\n",
    "\n",
    "$\\text{Middle Band}_t = SMA_{20,t} \\quad \\text{Upper Band}_t = \\text{Middle Band}_t + 2 \\sigma_t$;\n",
    "\n",
    "where $\\sigma_t$ is the std of Middle Band.\n",
    "\n",
    "- Average True Range (ATR)\n",
    "\n",
    "ATR is typically derived from the 14-day period, and it measures the degree of price volatility.\n",
    "\n",
    "$TR_1 = \\text{High}_t - \\text{Low}_t \\quad TR_2 = |\\text{High}_t - \\text{Close}_{t-1}| \\quad TR_3 = |\\text{Low}_t - \\text{Close}_{t-1}|$;\n",
    "\n",
    "then,\n",
    "\n",
    "$TR_t = \\max \\{TR_1, TR_2, TR_3\\} \\quad ART = SMA_{14, TR}$.\n"
   ]
  },
  {
   "cell_type": "code",
   "execution_count": 21,
   "id": "3f97aea9",
   "metadata": {},
   "outputs": [],
   "source": [
    "# Create rolling statistics\n",
    "btc_min_return['rolling_mean_return_15min'] = btc_min_return['return'].rolling(window=15).mean()\n",
    "btc_min_return['rolling_std_return_15min'] = btc_min_return['return'].rolling(window=15).std()\n",
    "btc_min_return['rolling_mean_volume_15min'] = btc_min_return['volume'].rolling(window=15).mean()\n",
    "btc_min_return['rolling_std_volume_15min'] = btc_min_return['volume'].rolling(window=15).std()\n",
    "\n",
    "# Create lag features (1, 5, 10, 15, 30 minutes)\n",
    "lags = [1, 5, 10, 15]\n",
    "for lag in lags:\n",
    "    btc_min_return[f'return_lag_{lag}min'] = btc_min_return['return'].shift(lag)\n",
    "\n",
    "# Interaction features\n",
    "btc_min_return['return_volume_interaction'] = btc_min_return['return'] * btc_min_return['volume']\n",
    "\n",
    "# Exponential moving averages\n",
    "btc_min_return['ema_return_5min'] = btc_min_return['return'].ewm(span=5, adjust=False).mean()\n",
    "\n",
    "# Volatility measures\n",
    "btc_min_return['hist_vol_5min'] = btc_min_return['return'].rolling(window=5).std()\n",
    "\n",
    "# Technical Indicators \n",
    "# Moving Average Convergence Divergence (MACD)\n",
    "btc_min_return['macd'] = ta.trend.MACD(btc_min_return['return']).macd()\n",
    "btc_min_return['macd_signal'] = ta.trend.MACD(btc_min_return['return']).macd_signal()\n",
    "\n",
    "# Relative Strength Index (RSI)\n",
    "btc_min_return['rsi'] = ta.momentum.RSIIndicator(btc_min_return['return']).rsi()\n",
    "\n",
    "# Bollinger Bands\n",
    "bollinger = ta.volatility.BollingerBands(btc_min_return['return'])\n",
    "btc_min_return['bollinger_hband'] = bollinger.bollinger_hband()\n",
    "btc_min_return['bollinger_lband'] = bollinger.bollinger_lband()\n",
    "\n",
    "# Average True Range (ATR)\n",
    "atr = ta.volatility.AverageTrueRange(\n",
    "    high=btc_min_return['close'], \n",
    "    low=btc_min_return['low'], \n",
    "    close=btc_min_return['close']\n",
    ")\n",
    "btc_min_return['atr'] = atr.average_true_range()\n",
    "\n",
    "btc_min_return=btc_min_return.dropna()"
   ]
  },
  {
   "cell_type": "code",
   "execution_count": 22,
   "id": "a9ccf9a9",
   "metadata": {},
   "outputs": [],
   "source": [
    "btc_min_return.to_csv('btc_min_return_selected.csv', index=True)"
   ]
  },
  {
   "cell_type": "code",
   "execution_count": null,
   "id": "23b30057",
   "metadata": {},
   "outputs": [],
   "source": []
  },
  {
   "cell_type": "code",
   "execution_count": null,
   "id": "a6f70095",
   "metadata": {},
   "outputs": [],
   "source": []
  }
 ],
 "metadata": {
  "kernelspec": {
   "display_name": "Python 3",
   "language": "python",
   "name": "python3"
  },
  "language_info": {
   "codemirror_mode": {
    "name": "ipython",
    "version": 3
   },
   "file_extension": ".py",
   "mimetype": "text/x-python",
   "name": "python",
   "nbconvert_exporter": "python",
   "pygments_lexer": "ipython3",
   "version": "3.8.16"
  },
  "toc": {
   "base_numbering": 1,
   "nav_menu": {},
   "number_sections": true,
   "sideBar": true,
   "skip_h1_title": false,
   "title_cell": "Table of Contents",
   "title_sidebar": "Contents",
   "toc_cell": false,
   "toc_position": {},
   "toc_section_display": true,
   "toc_window_display": false
  }
 },
 "nbformat": 4,
 "nbformat_minor": 5
}
