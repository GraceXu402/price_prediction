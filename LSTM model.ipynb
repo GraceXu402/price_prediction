{
 "cells": [
  {
   "cell_type": "code",
   "execution_count": 1,
   "id": "93dd3bc6",
   "metadata": {},
   "outputs": [],
   "source": [
    "import pandas as pd\n",
    "import numpy as np\n",
    "import matplotlib.pyplot as plt\n",
    "import seaborn as sns\n",
    "import os\n",
    "import glob\n",
    "import re\n",
    "import datetime\n",
    "import pickle\n",
    "import matplotlib.pyplot as plt\n",
    "from sklearn.model_selection import train_test_split\n",
    "from sklearn.linear_model import LinearRegression\n",
    "from sklearn.metrics import mean_squared_error\n",
    "from sklearn.feature_selection import SelectKBest, f_regression\n",
    "import statsmodels.api as sm\n",
    "from statsmodels.graphics.tsaplots import plot_acf\n",
    "from scipy.stats import norm, probplot\n",
    "from scipy.stats import norm\n",
    "import statsmodels.api as sm\n",
    "from statsmodels.tsa.ar_model import AutoReg\n",
    "from arch.unitroot import VarianceRatio\n",
    "import scipy.stats as stats\n",
    "from statsmodels.tsa.stattools import adfuller \n",
    "from scipy.stats import genpareto\n",
    "from sklearn.utils import resample\n",
    "from scipy.optimize import minimize\n",
    "from scipy.special import expit, logit\n",
    "from sklearn.linear_model import LogisticRegression\n",
    "from statsmodels.tools.sm_exceptions import ConvergenceWarning\n",
    "from scipy.optimize import minimize\n",
    "from scipy.stats import genpareto\n",
    "from scipy.optimize import differential_evolution\n",
    "from sklearn.decomposition import PCA\n",
    "from sklearn.linear_model import Ridge\n",
    "from scipy.optimize import differential_evolution\n",
    "from scipy.stats import gumbel_r\n",
    "from statsmodels.graphics.tsaplots import plot_acf\n",
    "from sklearn.preprocessing import StandardScaler\n",
    "from sklearn.ensemble import RandomForestRegressor\n",
    "from sklearn.feature_selection import mutual_info_regression\n",
    "from sklearn.feature_selection import RFE\n",
    "import ta\n",
    "import shap\n",
    "from xgboost.callback import EarlyStopping\n",
    "from sklearn.linear_model import LogisticRegression\n",
    "from sklearn.metrics import classification_report\n",
    "from sklearn.metrics import confusion_matrix\n",
    "from sklearn.metrics import roc_auc_score, roc_curve\n",
    "from sklearn.preprocessing import label_binarize\n",
    "from sklearn.metrics import precision_recall_curve, average_precision_score\n",
    "from sklearn.preprocessing import label_binarize\n",
    "from sklearn.feature_selection import mutual_info_classif\n",
    "from sklearn.preprocessing import LabelEncoder\n",
    "from scipy.stats import entropy\n",
    "\n",
    "import xgboost as xgb\n",
    "from sklearn.preprocessing import LabelBinarizer\n",
    "\n",
    "import warnings\n",
    "warnings.simplefilter(action='ignore', category=FutureWarning)\n",
    "warnings.filterwarnings(\"ignore\", category=ConvergenceWarning)"
   ]
  },
  {
   "cell_type": "markdown",
   "id": "8983e0a3",
   "metadata": {},
   "source": []
  },
  {
   "cell_type": "markdown",
   "id": "7a9b6403",
   "metadata": {},
   "source": []
  },
  {
   "cell_type": "code",
   "execution_count": 2,
   "id": "2b54a16c",
   "metadata": {},
   "outputs": [
    {
     "ename": "ModuleNotFoundError",
     "evalue": "No module named 'tensorflow.keras'",
     "output_type": "error",
     "traceback": [
      "\u001b[0;31m---------------------------------------------------------------------------\u001b[0m",
      "\u001b[0;31mModuleNotFoundError\u001b[0m                       Traceback (most recent call last)",
      "Cell \u001b[0;32mIn[2], line 1\u001b[0m\n\u001b[0;32m----> 1\u001b[0m \u001b[38;5;28;01mfrom\u001b[39;00m \u001b[38;5;21;01mtensorflow\u001b[39;00m\u001b[38;5;21;01m.\u001b[39;00m\u001b[38;5;21;01mkeras\u001b[39;00m\u001b[38;5;21;01m.\u001b[39;00m\u001b[38;5;21;01mmodels\u001b[39;00m \u001b[38;5;28;01mimport\u001b[39;00m Sequential\n",
      "\u001b[0;31mModuleNotFoundError\u001b[0m: No module named 'tensorflow.keras'"
     ]
    }
   ],
   "source": [
    "from tensorflow.keras.models import Sequential"
   ]
  },
  {
   "cell_type": "code",
   "execution_count": 1,
   "id": "c4f5793b",
   "metadata": {},
   "outputs": [
    {
     "name": "stderr",
     "output_type": "stream",
     "text": [
      "2024-08-07 17:54:00.264333: I tensorflow/core/platform/cpu_feature_guard.cc:182] This TensorFlow binary is optimized to use available CPU instructions in performance-critical operations.\n",
      "To enable the following instructions: SSE4.1 SSE4.2, in other operations, rebuild TensorFlow with the appropriate compiler flags.\n"
     ]
    },
    {
     "ename": "RuntimeError",
     "evalue": "This version of jaxlib was built using AVX instructions, which your CPU and/or operating system do not support. This error is frequently encountered on macOS when running an x86 Python installation on ARM hardware. In this case, try installing an ARM build of Python. Otherwise, you may be able work around this issue by building jaxlib from source.",
     "output_type": "error",
     "traceback": [
      "\u001b[0;31m---------------------------------------------------------------------------\u001b[0m",
      "\u001b[0;31mRuntimeError\u001b[0m                              Traceback (most recent call last)",
      "Cell \u001b[0;32mIn[1], line 1\u001b[0m\n\u001b[0;32m----> 1\u001b[0m \u001b[38;5;28;01mimport\u001b[39;00m \u001b[38;5;21;01mtensorflow\u001b[39;00m \u001b[38;5;28;01mas\u001b[39;00m \u001b[38;5;21;01mtf\u001b[39;00m\n\u001b[1;32m      2\u001b[0m \u001b[38;5;28mprint\u001b[39m(\u001b[38;5;124m\"\u001b[39m\u001b[38;5;124mTensorFlow version:\u001b[39m\u001b[38;5;124m\"\u001b[39m, tf\u001b[38;5;241m.\u001b[39m__version__)\n",
      "File \u001b[0;32m~/Desktop/Dissertation-docts/myenv_ronnie/lib/python3.11/site-packages/tensorflow/__init__.py:51\u001b[0m\n\u001b[1;32m     49\u001b[0m \u001b[38;5;28;01mfrom\u001b[39;00m \u001b[38;5;21;01m.\u001b[39;00m\u001b[38;5;21;01m_api\u001b[39;00m\u001b[38;5;21;01m.\u001b[39;00m\u001b[38;5;21;01mv2\u001b[39;00m \u001b[38;5;28;01mimport\u001b[39;00m autograph\n\u001b[1;32m     50\u001b[0m \u001b[38;5;28;01mfrom\u001b[39;00m \u001b[38;5;21;01m.\u001b[39;00m\u001b[38;5;21;01m_api\u001b[39;00m\u001b[38;5;21;01m.\u001b[39;00m\u001b[38;5;21;01mv2\u001b[39;00m \u001b[38;5;28;01mimport\u001b[39;00m bitwise\n\u001b[0;32m---> 51\u001b[0m \u001b[38;5;28;01mfrom\u001b[39;00m \u001b[38;5;21;01m.\u001b[39;00m\u001b[38;5;21;01m_api\u001b[39;00m\u001b[38;5;21;01m.\u001b[39;00m\u001b[38;5;21;01mv2\u001b[39;00m \u001b[38;5;28;01mimport\u001b[39;00m compat\n\u001b[1;32m     52\u001b[0m \u001b[38;5;28;01mfrom\u001b[39;00m \u001b[38;5;21;01m.\u001b[39;00m\u001b[38;5;21;01m_api\u001b[39;00m\u001b[38;5;21;01m.\u001b[39;00m\u001b[38;5;21;01mv2\u001b[39;00m \u001b[38;5;28;01mimport\u001b[39;00m config\n\u001b[1;32m     53\u001b[0m \u001b[38;5;28;01mfrom\u001b[39;00m \u001b[38;5;21;01m.\u001b[39;00m\u001b[38;5;21;01m_api\u001b[39;00m\u001b[38;5;21;01m.\u001b[39;00m\u001b[38;5;21;01mv2\u001b[39;00m \u001b[38;5;28;01mimport\u001b[39;00m data\n",
      "File \u001b[0;32m~/Desktop/Dissertation-docts/myenv_ronnie/lib/python3.11/site-packages/tensorflow/_api/v2/compat/__init__.py:37\u001b[0m\n\u001b[1;32m      3\u001b[0m \u001b[38;5;124;03m\"\"\"Compatibility functions.\u001b[39;00m\n\u001b[1;32m      4\u001b[0m \n\u001b[1;32m      5\u001b[0m \u001b[38;5;124;03mThe `tf.compat` module contains two sets of compatibility functions.\u001b[39;00m\n\u001b[0;32m   (...)\u001b[0m\n\u001b[1;32m     32\u001b[0m \n\u001b[1;32m     33\u001b[0m \u001b[38;5;124;03m\"\"\"\u001b[39;00m\n\u001b[1;32m     35\u001b[0m \u001b[38;5;28;01mimport\u001b[39;00m \u001b[38;5;21;01msys\u001b[39;00m \u001b[38;5;28;01mas\u001b[39;00m \u001b[38;5;21;01m_sys\u001b[39;00m\n\u001b[0;32m---> 37\u001b[0m \u001b[38;5;28;01mfrom\u001b[39;00m \u001b[38;5;21;01m.\u001b[39;00m \u001b[38;5;28;01mimport\u001b[39;00m v1\n\u001b[1;32m     38\u001b[0m \u001b[38;5;28;01mfrom\u001b[39;00m \u001b[38;5;21;01m.\u001b[39;00m \u001b[38;5;28;01mimport\u001b[39;00m v2\n\u001b[1;32m     39\u001b[0m \u001b[38;5;28;01mfrom\u001b[39;00m \u001b[38;5;21;01mtensorflow\u001b[39;00m\u001b[38;5;21;01m.\u001b[39;00m\u001b[38;5;21;01mpython\u001b[39;00m\u001b[38;5;21;01m.\u001b[39;00m\u001b[38;5;21;01mcompat\u001b[39;00m\u001b[38;5;21;01m.\u001b[39;00m\u001b[38;5;21;01mcompat\u001b[39;00m \u001b[38;5;28;01mimport\u001b[39;00m forward_compatibility_horizon\n",
      "File \u001b[0;32m~/Desktop/Dissertation-docts/myenv_ronnie/lib/python3.11/site-packages/tensorflow/_api/v2/compat/v1/__init__.py:31\u001b[0m\n\u001b[1;32m     29\u001b[0m \u001b[38;5;28;01mfrom\u001b[39;00m \u001b[38;5;21;01m.\u001b[39;00m \u001b[38;5;28;01mimport\u001b[39;00m autograph\n\u001b[1;32m     30\u001b[0m \u001b[38;5;28;01mfrom\u001b[39;00m \u001b[38;5;21;01m.\u001b[39;00m \u001b[38;5;28;01mimport\u001b[39;00m bitwise\n\u001b[0;32m---> 31\u001b[0m \u001b[38;5;28;01mfrom\u001b[39;00m \u001b[38;5;21;01m.\u001b[39;00m \u001b[38;5;28;01mimport\u001b[39;00m compat\n\u001b[1;32m     32\u001b[0m \u001b[38;5;28;01mfrom\u001b[39;00m \u001b[38;5;21;01m.\u001b[39;00m \u001b[38;5;28;01mimport\u001b[39;00m config\n\u001b[1;32m     33\u001b[0m \u001b[38;5;28;01mfrom\u001b[39;00m \u001b[38;5;21;01m.\u001b[39;00m \u001b[38;5;28;01mimport\u001b[39;00m data\n",
      "File \u001b[0;32m~/Desktop/Dissertation-docts/myenv_ronnie/lib/python3.11/site-packages/tensorflow/_api/v2/compat/v1/compat/__init__.py:37\u001b[0m\n\u001b[1;32m      3\u001b[0m \u001b[38;5;124;03m\"\"\"Compatibility functions.\u001b[39;00m\n\u001b[1;32m      4\u001b[0m \n\u001b[1;32m      5\u001b[0m \u001b[38;5;124;03mThe `tf.compat` module contains two sets of compatibility functions.\u001b[39;00m\n\u001b[0;32m   (...)\u001b[0m\n\u001b[1;32m     32\u001b[0m \n\u001b[1;32m     33\u001b[0m \u001b[38;5;124;03m\"\"\"\u001b[39;00m\n\u001b[1;32m     35\u001b[0m \u001b[38;5;28;01mimport\u001b[39;00m \u001b[38;5;21;01msys\u001b[39;00m \u001b[38;5;28;01mas\u001b[39;00m \u001b[38;5;21;01m_sys\u001b[39;00m\n\u001b[0;32m---> 37\u001b[0m \u001b[38;5;28;01mfrom\u001b[39;00m \u001b[38;5;21;01m.\u001b[39;00m \u001b[38;5;28;01mimport\u001b[39;00m v1\n\u001b[1;32m     38\u001b[0m \u001b[38;5;28;01mfrom\u001b[39;00m \u001b[38;5;21;01m.\u001b[39;00m \u001b[38;5;28;01mimport\u001b[39;00m v2\n\u001b[1;32m     39\u001b[0m \u001b[38;5;28;01mfrom\u001b[39;00m \u001b[38;5;21;01mtensorflow\u001b[39;00m\u001b[38;5;21;01m.\u001b[39;00m\u001b[38;5;21;01mpython\u001b[39;00m\u001b[38;5;21;01m.\u001b[39;00m\u001b[38;5;21;01mcompat\u001b[39;00m\u001b[38;5;21;01m.\u001b[39;00m\u001b[38;5;21;01mcompat\u001b[39;00m \u001b[38;5;28;01mimport\u001b[39;00m forward_compatibility_horizon\n",
      "File \u001b[0;32m~/Desktop/Dissertation-docts/myenv_ronnie/lib/python3.11/site-packages/tensorflow/_api/v2/compat/v1/compat/v1/__init__.py:48\u001b[0m\n\u001b[1;32m     46\u001b[0m \u001b[38;5;28;01mfrom\u001b[39;00m \u001b[38;5;21;01mtensorflow\u001b[39;00m\u001b[38;5;21;01m.\u001b[39;00m\u001b[38;5;21;01m_api\u001b[39;00m\u001b[38;5;21;01m.\u001b[39;00m\u001b[38;5;21;01mv2\u001b[39;00m\u001b[38;5;21;01m.\u001b[39;00m\u001b[38;5;21;01mcompat\u001b[39;00m\u001b[38;5;21;01m.\u001b[39;00m\u001b[38;5;21;01mv1\u001b[39;00m \u001b[38;5;28;01mimport\u001b[39;00m layers\n\u001b[1;32m     47\u001b[0m \u001b[38;5;28;01mfrom\u001b[39;00m \u001b[38;5;21;01mtensorflow\u001b[39;00m\u001b[38;5;21;01m.\u001b[39;00m\u001b[38;5;21;01m_api\u001b[39;00m\u001b[38;5;21;01m.\u001b[39;00m\u001b[38;5;21;01mv2\u001b[39;00m\u001b[38;5;21;01m.\u001b[39;00m\u001b[38;5;21;01mcompat\u001b[39;00m\u001b[38;5;21;01m.\u001b[39;00m\u001b[38;5;21;01mv1\u001b[39;00m \u001b[38;5;28;01mimport\u001b[39;00m linalg\n\u001b[0;32m---> 48\u001b[0m \u001b[38;5;28;01mfrom\u001b[39;00m \u001b[38;5;21;01mtensorflow\u001b[39;00m\u001b[38;5;21;01m.\u001b[39;00m\u001b[38;5;21;01m_api\u001b[39;00m\u001b[38;5;21;01m.\u001b[39;00m\u001b[38;5;21;01mv2\u001b[39;00m\u001b[38;5;21;01m.\u001b[39;00m\u001b[38;5;21;01mcompat\u001b[39;00m\u001b[38;5;21;01m.\u001b[39;00m\u001b[38;5;21;01mv1\u001b[39;00m \u001b[38;5;28;01mimport\u001b[39;00m lite\n\u001b[1;32m     49\u001b[0m \u001b[38;5;28;01mfrom\u001b[39;00m \u001b[38;5;21;01mtensorflow\u001b[39;00m\u001b[38;5;21;01m.\u001b[39;00m\u001b[38;5;21;01m_api\u001b[39;00m\u001b[38;5;21;01m.\u001b[39;00m\u001b[38;5;21;01mv2\u001b[39;00m\u001b[38;5;21;01m.\u001b[39;00m\u001b[38;5;21;01mcompat\u001b[39;00m\u001b[38;5;21;01m.\u001b[39;00m\u001b[38;5;21;01mv1\u001b[39;00m \u001b[38;5;28;01mimport\u001b[39;00m logging\n\u001b[1;32m     50\u001b[0m \u001b[38;5;28;01mfrom\u001b[39;00m \u001b[38;5;21;01mtensorflow\u001b[39;00m\u001b[38;5;21;01m.\u001b[39;00m\u001b[38;5;21;01m_api\u001b[39;00m\u001b[38;5;21;01m.\u001b[39;00m\u001b[38;5;21;01mv2\u001b[39;00m\u001b[38;5;21;01m.\u001b[39;00m\u001b[38;5;21;01mcompat\u001b[39;00m\u001b[38;5;21;01m.\u001b[39;00m\u001b[38;5;21;01mv1\u001b[39;00m \u001b[38;5;28;01mimport\u001b[39;00m lookup\n",
      "File \u001b[0;32m~/Desktop/Dissertation-docts/myenv_ronnie/lib/python3.11/site-packages/tensorflow/_api/v2/compat/v1/lite/__init__.py:9\u001b[0m\n\u001b[1;32m      6\u001b[0m \u001b[38;5;28;01mimport\u001b[39;00m \u001b[38;5;21;01msys\u001b[39;00m \u001b[38;5;28;01mas\u001b[39;00m \u001b[38;5;21;01m_sys\u001b[39;00m\n\u001b[1;32m      8\u001b[0m \u001b[38;5;28;01mfrom\u001b[39;00m \u001b[38;5;21;01m.\u001b[39;00m \u001b[38;5;28;01mimport\u001b[39;00m constants\n\u001b[0;32m----> 9\u001b[0m \u001b[38;5;28;01mfrom\u001b[39;00m \u001b[38;5;21;01m.\u001b[39;00m \u001b[38;5;28;01mimport\u001b[39;00m experimental\n\u001b[1;32m     10\u001b[0m \u001b[38;5;28;01mfrom\u001b[39;00m \u001b[38;5;21;01mtensorflow\u001b[39;00m\u001b[38;5;21;01m.\u001b[39;00m\u001b[38;5;21;01mlite\u001b[39;00m\u001b[38;5;21;01m.\u001b[39;00m\u001b[38;5;21;01mpython\u001b[39;00m\u001b[38;5;21;01m.\u001b[39;00m\u001b[38;5;21;01mlite\u001b[39;00m \u001b[38;5;28;01mimport\u001b[39;00m Interpreter\n\u001b[1;32m     11\u001b[0m \u001b[38;5;28;01mfrom\u001b[39;00m \u001b[38;5;21;01mtensorflow\u001b[39;00m\u001b[38;5;21;01m.\u001b[39;00m\u001b[38;5;21;01mlite\u001b[39;00m\u001b[38;5;21;01m.\u001b[39;00m\u001b[38;5;21;01mpython\u001b[39;00m\u001b[38;5;21;01m.\u001b[39;00m\u001b[38;5;21;01mlite\u001b[39;00m \u001b[38;5;28;01mimport\u001b[39;00m OpHint\n",
      "File \u001b[0;32m~/Desktop/Dissertation-docts/myenv_ronnie/lib/python3.11/site-packages/tensorflow/_api/v2/compat/v1/lite/experimental/__init__.py:8\u001b[0m\n\u001b[1;32m      3\u001b[0m \u001b[38;5;124;03m\"\"\"Public API for tf.lite.experimental namespace.\u001b[39;00m\n\u001b[1;32m      4\u001b[0m \u001b[38;5;124;03m\"\"\"\u001b[39;00m\n\u001b[1;32m      6\u001b[0m \u001b[38;5;28;01mimport\u001b[39;00m \u001b[38;5;21;01msys\u001b[39;00m \u001b[38;5;28;01mas\u001b[39;00m \u001b[38;5;21;01m_sys\u001b[39;00m\n\u001b[0;32m----> 8\u001b[0m \u001b[38;5;28;01mfrom\u001b[39;00m \u001b[38;5;21;01m.\u001b[39;00m \u001b[38;5;28;01mimport\u001b[39;00m authoring\n\u001b[1;32m      9\u001b[0m \u001b[38;5;28;01mfrom\u001b[39;00m \u001b[38;5;21;01mtensorflow\u001b[39;00m\u001b[38;5;21;01m.\u001b[39;00m\u001b[38;5;21;01mlite\u001b[39;00m\u001b[38;5;21;01m.\u001b[39;00m\u001b[38;5;21;01mpython\u001b[39;00m\u001b[38;5;21;01m.\u001b[39;00m\u001b[38;5;21;01manalyzer\u001b[39;00m \u001b[38;5;28;01mimport\u001b[39;00m ModelAnalyzer \u001b[38;5;28;01mas\u001b[39;00m Analyzer\n\u001b[1;32m     10\u001b[0m \u001b[38;5;28;01mfrom\u001b[39;00m \u001b[38;5;21;01mtensorflow\u001b[39;00m\u001b[38;5;21;01m.\u001b[39;00m\u001b[38;5;21;01mlite\u001b[39;00m\u001b[38;5;21;01m.\u001b[39;00m\u001b[38;5;21;01mpython\u001b[39;00m\u001b[38;5;21;01m.\u001b[39;00m\u001b[38;5;21;01mlite\u001b[39;00m \u001b[38;5;28;01mimport\u001b[39;00m OpResolverType\n",
      "File \u001b[0;32m~/Desktop/Dissertation-docts/myenv_ronnie/lib/python3.11/site-packages/tensorflow/_api/v2/compat/v1/lite/experimental/authoring/__init__.py:8\u001b[0m\n\u001b[1;32m      3\u001b[0m \u001b[38;5;124;03m\"\"\"Public API for tf.lite.experimental.authoring namespace.\u001b[39;00m\n\u001b[1;32m      4\u001b[0m \u001b[38;5;124;03m\"\"\"\u001b[39;00m\n\u001b[1;32m      6\u001b[0m \u001b[38;5;28;01mimport\u001b[39;00m \u001b[38;5;21;01msys\u001b[39;00m \u001b[38;5;28;01mas\u001b[39;00m \u001b[38;5;21;01m_sys\u001b[39;00m\n\u001b[0;32m----> 8\u001b[0m \u001b[38;5;28;01mfrom\u001b[39;00m \u001b[38;5;21;01mtensorflow\u001b[39;00m\u001b[38;5;21;01m.\u001b[39;00m\u001b[38;5;21;01mlite\u001b[39;00m\u001b[38;5;21;01m.\u001b[39;00m\u001b[38;5;21;01mpython\u001b[39;00m\u001b[38;5;21;01m.\u001b[39;00m\u001b[38;5;21;01mauthoring\u001b[39;00m\u001b[38;5;21;01m.\u001b[39;00m\u001b[38;5;21;01mauthoring\u001b[39;00m \u001b[38;5;28;01mimport\u001b[39;00m compatible\n",
      "File \u001b[0;32m~/Desktop/Dissertation-docts/myenv_ronnie/lib/python3.11/site-packages/tensorflow/lite/python/authoring/authoring.py:43\u001b[0m\n\u001b[1;32m     39\u001b[0m \u001b[38;5;28;01mimport\u001b[39;00m \u001b[38;5;21;01mfunctools\u001b[39;00m\n\u001b[1;32m     42\u001b[0m \u001b[38;5;66;03m# pylint: disable=g-import-not-at-top\u001b[39;00m\n\u001b[0;32m---> 43\u001b[0m \u001b[38;5;28;01mfrom\u001b[39;00m \u001b[38;5;21;01mtensorflow\u001b[39;00m\u001b[38;5;21;01m.\u001b[39;00m\u001b[38;5;21;01mlite\u001b[39;00m\u001b[38;5;21;01m.\u001b[39;00m\u001b[38;5;21;01mpython\u001b[39;00m \u001b[38;5;28;01mimport\u001b[39;00m convert\n\u001b[1;32m     44\u001b[0m \u001b[38;5;28;01mfrom\u001b[39;00m \u001b[38;5;21;01mtensorflow\u001b[39;00m\u001b[38;5;21;01m.\u001b[39;00m\u001b[38;5;21;01mlite\u001b[39;00m\u001b[38;5;21;01m.\u001b[39;00m\u001b[38;5;21;01mpython\u001b[39;00m \u001b[38;5;28;01mimport\u001b[39;00m lite\n\u001b[1;32m     45\u001b[0m \u001b[38;5;28;01mfrom\u001b[39;00m \u001b[38;5;21;01mtensorflow\u001b[39;00m\u001b[38;5;21;01m.\u001b[39;00m\u001b[38;5;21;01mlite\u001b[39;00m\u001b[38;5;21;01m.\u001b[39;00m\u001b[38;5;21;01mpython\u001b[39;00m\u001b[38;5;21;01m.\u001b[39;00m\u001b[38;5;21;01mmetrics\u001b[39;00m \u001b[38;5;28;01mimport\u001b[39;00m converter_error_data_pb2\n",
      "File \u001b[0;32m~/Desktop/Dissertation-docts/myenv_ronnie/lib/python3.11/site-packages/tensorflow/lite/python/convert.py:27\u001b[0m\n\u001b[1;32m     24\u001b[0m \u001b[38;5;28;01mimport\u001b[39;00m \u001b[38;5;21;01mwarnings\u001b[39;00m\n\u001b[1;32m     26\u001b[0m \u001b[38;5;28;01mfrom\u001b[39;00m \u001b[38;5;21;01mtensorflow\u001b[39;00m\u001b[38;5;21;01m.\u001b[39;00m\u001b[38;5;21;01mlite\u001b[39;00m\u001b[38;5;21;01m.\u001b[39;00m\u001b[38;5;21;01mpython\u001b[39;00m \u001b[38;5;28;01mimport\u001b[39;00m lite_constants\n\u001b[0;32m---> 27\u001b[0m \u001b[38;5;28;01mfrom\u001b[39;00m \u001b[38;5;21;01mtensorflow\u001b[39;00m\u001b[38;5;21;01m.\u001b[39;00m\u001b[38;5;21;01mlite\u001b[39;00m\u001b[38;5;21;01m.\u001b[39;00m\u001b[38;5;21;01mpython\u001b[39;00m \u001b[38;5;28;01mimport\u001b[39;00m util\n\u001b[1;32m     28\u001b[0m \u001b[38;5;28;01mfrom\u001b[39;00m \u001b[38;5;21;01mtensorflow\u001b[39;00m\u001b[38;5;21;01m.\u001b[39;00m\u001b[38;5;21;01mlite\u001b[39;00m\u001b[38;5;21;01m.\u001b[39;00m\u001b[38;5;21;01mpython\u001b[39;00m \u001b[38;5;28;01mimport\u001b[39;00m wrap_toco\n\u001b[1;32m     29\u001b[0m \u001b[38;5;28;01mfrom\u001b[39;00m \u001b[38;5;21;01mtensorflow\u001b[39;00m\u001b[38;5;21;01m.\u001b[39;00m\u001b[38;5;21;01mlite\u001b[39;00m\u001b[38;5;21;01m.\u001b[39;00m\u001b[38;5;21;01mpython\u001b[39;00m\u001b[38;5;21;01m.\u001b[39;00m\u001b[38;5;21;01mconvert_phase\u001b[39;00m \u001b[38;5;28;01mimport\u001b[39;00m Component\n",
      "File \u001b[0;32m~/Desktop/Dissertation-docts/myenv_ronnie/lib/python3.11/site-packages/tensorflow/lite/python/util.py:52\u001b[0m\n\u001b[1;32m     48\u001b[0m \u001b[38;5;66;03m# Jax functions used by TFLite\u001b[39;00m\n\u001b[1;32m     49\u001b[0m \u001b[38;5;66;03m# pylint: disable=g-import-not-at-top\u001b[39;00m\n\u001b[1;32m     50\u001b[0m \u001b[38;5;66;03m# pylint: disable=unused-import\u001b[39;00m\n\u001b[1;32m     51\u001b[0m \u001b[38;5;28;01mtry\u001b[39;00m:\n\u001b[0;32m---> 52\u001b[0m   \u001b[38;5;28;01mfrom\u001b[39;00m \u001b[38;5;21;01mjax\u001b[39;00m \u001b[38;5;28;01mimport\u001b[39;00m xla_computation \u001b[38;5;28;01mas\u001b[39;00m _xla_computation\n\u001b[1;32m     53\u001b[0m \u001b[38;5;28;01mexcept\u001b[39;00m \u001b[38;5;167;01mImportError\u001b[39;00m:\n\u001b[1;32m     54\u001b[0m   _xla_computation \u001b[38;5;241m=\u001b[39m \u001b[38;5;28;01mNone\u001b[39;00m\n",
      "File \u001b[0;32m~/Desktop/Dissertation-docts/myenv_ronnie/lib/python3.11/site-packages/jax/__init__.py:25\u001b[0m\n\u001b[1;32m     22\u001b[0m \u001b[38;5;28;01mfrom\u001b[39;00m \u001b[38;5;21;01mjax\u001b[39;00m\u001b[38;5;21;01m.\u001b[39;00m\u001b[38;5;21;01mversion\u001b[39;00m \u001b[38;5;28;01mimport\u001b[39;00m __version_info__ \u001b[38;5;28;01mas\u001b[39;00m __version_info__\n\u001b[1;32m     24\u001b[0m \u001b[38;5;66;03m# Set Cloud TPU env vars if necessary before transitively loading C++ backend\u001b[39;00m\n\u001b[0;32m---> 25\u001b[0m \u001b[38;5;28;01mfrom\u001b[39;00m \u001b[38;5;21;01mjax\u001b[39;00m\u001b[38;5;21;01m.\u001b[39;00m\u001b[38;5;21;01m_src\u001b[39;00m\u001b[38;5;21;01m.\u001b[39;00m\u001b[38;5;21;01mcloud_tpu_init\u001b[39;00m \u001b[38;5;28;01mimport\u001b[39;00m cloud_tpu_init \u001b[38;5;28;01mas\u001b[39;00m _cloud_tpu_init\n\u001b[1;32m     26\u001b[0m \u001b[38;5;28;01mtry\u001b[39;00m:\n\u001b[1;32m     27\u001b[0m   _cloud_tpu_init()\n",
      "File \u001b[0;32m~/Desktop/Dissertation-docts/myenv_ronnie/lib/python3.11/site-packages/jax/_src/cloud_tpu_init.py:17\u001b[0m\n\u001b[1;32m     15\u001b[0m \u001b[38;5;28;01mimport\u001b[39;00m \u001b[38;5;21;01mos\u001b[39;00m\n\u001b[1;32m     16\u001b[0m \u001b[38;5;28;01mfrom\u001b[39;00m \u001b[38;5;21;01mjax\u001b[39;00m \u001b[38;5;28;01mimport\u001b[39;00m version\n\u001b[0;32m---> 17\u001b[0m \u001b[38;5;28;01mfrom\u001b[39;00m \u001b[38;5;21;01mjax\u001b[39;00m\u001b[38;5;21;01m.\u001b[39;00m\u001b[38;5;21;01m_src\u001b[39;00m \u001b[38;5;28;01mimport\u001b[39;00m config\n\u001b[1;32m     18\u001b[0m \u001b[38;5;28;01mfrom\u001b[39;00m \u001b[38;5;21;01mjax\u001b[39;00m\u001b[38;5;21;01m.\u001b[39;00m\u001b[38;5;21;01m_src\u001b[39;00m \u001b[38;5;28;01mimport\u001b[39;00m hardware_utils\n\u001b[1;32m     19\u001b[0m \u001b[38;5;28;01mfrom\u001b[39;00m \u001b[38;5;21;01mtyping\u001b[39;00m \u001b[38;5;28;01mimport\u001b[39;00m Optional\n",
      "File \u001b[0;32m~/Desktop/Dissertation-docts/myenv_ronnie/lib/python3.11/site-packages/jax/_src/config.py:27\u001b[0m\n\u001b[1;32m     24\u001b[0m \u001b[38;5;28;01mimport\u001b[39;00m \u001b[38;5;21;01mthreading\u001b[39;00m\n\u001b[1;32m     25\u001b[0m \u001b[38;5;28;01mfrom\u001b[39;00m \u001b[38;5;21;01mtyping\u001b[39;00m \u001b[38;5;28;01mimport\u001b[39;00m Any, Callable, Generic, NamedTuple, NoReturn, TypeVar, cast\n\u001b[0;32m---> 27\u001b[0m \u001b[38;5;28;01mfrom\u001b[39;00m \u001b[38;5;21;01mjax\u001b[39;00m\u001b[38;5;21;01m.\u001b[39;00m\u001b[38;5;21;01m_src\u001b[39;00m \u001b[38;5;28;01mimport\u001b[39;00m lib\n\u001b[1;32m     28\u001b[0m \u001b[38;5;28;01mfrom\u001b[39;00m \u001b[38;5;21;01mjax\u001b[39;00m\u001b[38;5;21;01m.\u001b[39;00m\u001b[38;5;21;01m_src\u001b[39;00m\u001b[38;5;21;01m.\u001b[39;00m\u001b[38;5;21;01mlib\u001b[39;00m \u001b[38;5;28;01mimport\u001b[39;00m jax_jit\n\u001b[1;32m     29\u001b[0m \u001b[38;5;28;01mfrom\u001b[39;00m \u001b[38;5;21;01mjax\u001b[39;00m\u001b[38;5;21;01m.\u001b[39;00m\u001b[38;5;21;01m_src\u001b[39;00m\u001b[38;5;21;01m.\u001b[39;00m\u001b[38;5;21;01mlib\u001b[39;00m \u001b[38;5;28;01mimport\u001b[39;00m transfer_guard_lib\n",
      "File \u001b[0;32m~/Desktop/Dissertation-docts/myenv_ronnie/lib/python3.11/site-packages/jax/_src/lib/__init__.py:84\u001b[0m\n\u001b[1;32m     80\u001b[0m \u001b[38;5;66;03m# Before importing any C compiled modules from jaxlib, first import the CPU\u001b[39;00m\n\u001b[1;32m     81\u001b[0m \u001b[38;5;66;03m# feature guard module to verify that jaxlib was compiled in a way that only\u001b[39;00m\n\u001b[1;32m     82\u001b[0m \u001b[38;5;66;03m# uses instructions that are present on this machine.\u001b[39;00m\n\u001b[1;32m     83\u001b[0m \u001b[38;5;28;01mimport\u001b[39;00m \u001b[38;5;21;01mjaxlib\u001b[39;00m\u001b[38;5;21;01m.\u001b[39;00m\u001b[38;5;21;01mcpu_feature_guard\u001b[39;00m \u001b[38;5;28;01mas\u001b[39;00m \u001b[38;5;21;01mcpu_feature_guard\u001b[39;00m\n\u001b[0;32m---> 84\u001b[0m \u001b[43mcpu_feature_guard\u001b[49m\u001b[38;5;241;43m.\u001b[39;49m\u001b[43mcheck_cpu_features\u001b[49m\u001b[43m(\u001b[49m\u001b[43m)\u001b[49m\n\u001b[1;32m     86\u001b[0m \u001b[38;5;28;01mimport\u001b[39;00m \u001b[38;5;21;01mjaxlib\u001b[39;00m\u001b[38;5;21;01m.\u001b[39;00m\u001b[38;5;21;01mutils\u001b[39;00m \u001b[38;5;28;01mas\u001b[39;00m \u001b[38;5;21;01mutils\u001b[39;00m\n\u001b[1;32m     87\u001b[0m \u001b[38;5;28;01mimport\u001b[39;00m \u001b[38;5;21;01mjaxlib\u001b[39;00m\u001b[38;5;21;01m.\u001b[39;00m\u001b[38;5;21;01mxla_client\u001b[39;00m \u001b[38;5;28;01mas\u001b[39;00m \u001b[38;5;21;01mxla_client\u001b[39;00m\n",
      "\u001b[0;31mRuntimeError\u001b[0m: This version of jaxlib was built using AVX instructions, which your CPU and/or operating system do not support. This error is frequently encountered on macOS when running an x86 Python installation on ARM hardware. In this case, try installing an ARM build of Python. Otherwise, you may be able work around this issue by building jaxlib from source."
     ]
    }
   ],
   "source": [
    "import tensorflow as tf\n",
    "print(\"TensorFlow version:\", tf.__version__)\n"
   ]
  },
  {
   "cell_type": "markdown",
   "id": "3dd03200",
   "metadata": {},
   "source": []
  },
  {
   "cell_type": "code",
   "execution_count": 1,
   "id": "09a784c3",
   "metadata": {},
   "outputs": [
    {
     "name": "stdout",
     "output_type": "stream",
     "text": [
      "Found existing installation: tensorflow 2.13.1\n",
      "Uninstalling tensorflow-2.13.1:\n",
      "  Successfully uninstalled tensorflow-2.13.1\n"
     ]
    }
   ],
   "source": [
    "!pip uninstall -y tensorflow"
   ]
  },
  {
   "cell_type": "code",
   "execution_count": 2,
   "id": "2b15de7c",
   "metadata": {},
   "outputs": [
    {
     "name": "stdout",
     "output_type": "stream",
     "text": [
      "Collecting tensorflow\n",
      "  Using cached tensorflow-2.13.1-cp38-cp38-macosx_10_15_x86_64.whl.metadata (3.2 kB)\n",
      "Requirement already satisfied: absl-py>=1.0.0 in /Users/xiaoyuxu/opt/anaconda3/envs/myenv/lib/python3.8/site-packages (from tensorflow) (2.1.0)\n",
      "Requirement already satisfied: astunparse>=1.6.0 in /Users/xiaoyuxu/opt/anaconda3/envs/myenv/lib/python3.8/site-packages (from tensorflow) (1.6.3)\n",
      "Requirement already satisfied: flatbuffers>=23.1.21 in /Users/xiaoyuxu/opt/anaconda3/envs/myenv/lib/python3.8/site-packages (from tensorflow) (24.3.25)\n",
      "Requirement already satisfied: gast<=0.4.0,>=0.2.1 in /Users/xiaoyuxu/opt/anaconda3/envs/myenv/lib/python3.8/site-packages (from tensorflow) (0.4.0)\n",
      "Requirement already satisfied: google-pasta>=0.1.1 in /Users/xiaoyuxu/opt/anaconda3/envs/myenv/lib/python3.8/site-packages (from tensorflow) (0.2.0)\n",
      "Requirement already satisfied: h5py>=2.9.0 in /Users/xiaoyuxu/opt/anaconda3/envs/myenv/lib/python3.8/site-packages (from tensorflow) (3.11.0)\n",
      "Requirement already satisfied: libclang>=13.0.0 in /Users/xiaoyuxu/opt/anaconda3/envs/myenv/lib/python3.8/site-packages (from tensorflow) (18.1.1)\n",
      "Requirement already satisfied: numpy<=1.24.3,>=1.22 in /Users/xiaoyuxu/opt/anaconda3/envs/myenv/lib/python3.8/site-packages (from tensorflow) (1.24.3)\n",
      "Requirement already satisfied: opt-einsum>=2.3.2 in /Users/xiaoyuxu/opt/anaconda3/envs/myenv/lib/python3.8/site-packages (from tensorflow) (3.3.0)\n",
      "Requirement already satisfied: packaging in /Users/xiaoyuxu/opt/anaconda3/envs/myenv/lib/python3.8/site-packages (from tensorflow) (24.1)\n",
      "Requirement already satisfied: protobuf!=4.21.0,!=4.21.1,!=4.21.2,!=4.21.3,!=4.21.4,!=4.21.5,<5.0.0dev,>=3.20.3 in /Users/xiaoyuxu/opt/anaconda3/envs/myenv/lib/python3.8/site-packages (from tensorflow) (4.25.4)\n",
      "Requirement already satisfied: setuptools in /Users/xiaoyuxu/opt/anaconda3/envs/myenv/lib/python3.8/site-packages (from tensorflow) (72.1.0)\n",
      "Requirement already satisfied: six>=1.12.0 in /Users/xiaoyuxu/opt/anaconda3/envs/myenv/lib/python3.8/site-packages (from tensorflow) (1.16.0)\n",
      "Requirement already satisfied: termcolor>=1.1.0 in /Users/xiaoyuxu/opt/anaconda3/envs/myenv/lib/python3.8/site-packages (from tensorflow) (2.4.0)\n",
      "Requirement already satisfied: typing-extensions<4.6.0,>=3.6.6 in /Users/xiaoyuxu/opt/anaconda3/envs/myenv/lib/python3.8/site-packages (from tensorflow) (4.5.0)\n",
      "Requirement already satisfied: wrapt>=1.11.0 in /Users/xiaoyuxu/opt/anaconda3/envs/myenv/lib/python3.8/site-packages (from tensorflow) (1.16.0)\n",
      "Requirement already satisfied: grpcio<2.0,>=1.24.3 in /Users/xiaoyuxu/opt/anaconda3/envs/myenv/lib/python3.8/site-packages (from tensorflow) (1.65.4)\n",
      "Requirement already satisfied: tensorboard<2.14,>=2.13 in /Users/xiaoyuxu/opt/anaconda3/envs/myenv/lib/python3.8/site-packages (from tensorflow) (2.13.0)\n",
      "Requirement already satisfied: tensorflow-estimator<2.14,>=2.13.0 in /Users/xiaoyuxu/opt/anaconda3/envs/myenv/lib/python3.8/site-packages (from tensorflow) (2.13.0)\n",
      "Requirement already satisfied: keras<2.14,>=2.13.1 in /Users/xiaoyuxu/opt/anaconda3/envs/myenv/lib/python3.8/site-packages (from tensorflow) (2.13.1)\n",
      "Requirement already satisfied: tensorflow-io-gcs-filesystem>=0.23.1 in /Users/xiaoyuxu/opt/anaconda3/envs/myenv/lib/python3.8/site-packages (from tensorflow) (0.34.0)\n",
      "Requirement already satisfied: wheel<1.0,>=0.23.0 in /Users/xiaoyuxu/opt/anaconda3/envs/myenv/lib/python3.8/site-packages (from astunparse>=1.6.0->tensorflow) (0.44.0)\n",
      "Requirement already satisfied: google-auth<3,>=1.6.3 in /Users/xiaoyuxu/opt/anaconda3/envs/myenv/lib/python3.8/site-packages (from tensorboard<2.14,>=2.13->tensorflow) (2.33.0)\n",
      "Requirement already satisfied: google-auth-oauthlib<1.1,>=0.5 in /Users/xiaoyuxu/opt/anaconda3/envs/myenv/lib/python3.8/site-packages (from tensorboard<2.14,>=2.13->tensorflow) (1.0.0)\n",
      "Requirement already satisfied: markdown>=2.6.8 in /Users/xiaoyuxu/opt/anaconda3/envs/myenv/lib/python3.8/site-packages (from tensorboard<2.14,>=2.13->tensorflow) (3.6)\n",
      "Requirement already satisfied: requests<3,>=2.21.0 in /Users/xiaoyuxu/opt/anaconda3/envs/myenv/lib/python3.8/site-packages (from tensorboard<2.14,>=2.13->tensorflow) (2.32.3)\n",
      "Requirement already satisfied: tensorboard-data-server<0.8.0,>=0.7.0 in /Users/xiaoyuxu/opt/anaconda3/envs/myenv/lib/python3.8/site-packages (from tensorboard<2.14,>=2.13->tensorflow) (0.7.2)\n",
      "Requirement already satisfied: werkzeug>=1.0.1 in /Users/xiaoyuxu/opt/anaconda3/envs/myenv/lib/python3.8/site-packages (from tensorboard<2.14,>=2.13->tensorflow) (3.0.3)\n",
      "Requirement already satisfied: cachetools<6.0,>=2.0.0 in /Users/xiaoyuxu/opt/anaconda3/envs/myenv/lib/python3.8/site-packages (from google-auth<3,>=1.6.3->tensorboard<2.14,>=2.13->tensorflow) (5.4.0)\n",
      "Requirement already satisfied: pyasn1-modules>=0.2.1 in /Users/xiaoyuxu/opt/anaconda3/envs/myenv/lib/python3.8/site-packages (from google-auth<3,>=1.6.3->tensorboard<2.14,>=2.13->tensorflow) (0.4.0)\n",
      "Requirement already satisfied: rsa<5,>=3.1.4 in /Users/xiaoyuxu/opt/anaconda3/envs/myenv/lib/python3.8/site-packages (from google-auth<3,>=1.6.3->tensorboard<2.14,>=2.13->tensorflow) (4.9)\n",
      "Requirement already satisfied: requests-oauthlib>=0.7.0 in /Users/xiaoyuxu/opt/anaconda3/envs/myenv/lib/python3.8/site-packages (from google-auth-oauthlib<1.1,>=0.5->tensorboard<2.14,>=2.13->tensorflow) (2.0.0)\n",
      "Requirement already satisfied: importlib-metadata>=4.4 in /Users/xiaoyuxu/opt/anaconda3/envs/myenv/lib/python3.8/site-packages (from markdown>=2.6.8->tensorboard<2.14,>=2.13->tensorflow) (8.2.0)\n",
      "Requirement already satisfied: charset-normalizer<4,>=2 in /Users/xiaoyuxu/opt/anaconda3/envs/myenv/lib/python3.8/site-packages (from requests<3,>=2.21.0->tensorboard<2.14,>=2.13->tensorflow) (3.3.2)\n",
      "Requirement already satisfied: idna<4,>=2.5 in /Users/xiaoyuxu/opt/anaconda3/envs/myenv/lib/python3.8/site-packages (from requests<3,>=2.21.0->tensorboard<2.14,>=2.13->tensorflow) (3.7)\n",
      "Requirement already satisfied: urllib3<3,>=1.21.1 in /Users/xiaoyuxu/opt/anaconda3/envs/myenv/lib/python3.8/site-packages (from requests<3,>=2.21.0->tensorboard<2.14,>=2.13->tensorflow) (2.2.2)\n",
      "Requirement already satisfied: certifi>=2017.4.17 in /Users/xiaoyuxu/opt/anaconda3/envs/myenv/lib/python3.8/site-packages (from requests<3,>=2.21.0->tensorboard<2.14,>=2.13->tensorflow) (2024.7.4)\n",
      "Requirement already satisfied: MarkupSafe>=2.1.1 in /Users/xiaoyuxu/opt/anaconda3/envs/myenv/lib/python3.8/site-packages (from werkzeug>=1.0.1->tensorboard<2.14,>=2.13->tensorflow) (2.1.5)\n",
      "Requirement already satisfied: zipp>=0.5 in /Users/xiaoyuxu/opt/anaconda3/envs/myenv/lib/python3.8/site-packages (from importlib-metadata>=4.4->markdown>=2.6.8->tensorboard<2.14,>=2.13->tensorflow) (3.19.2)\n",
      "Requirement already satisfied: pyasn1<0.7.0,>=0.4.6 in /Users/xiaoyuxu/opt/anaconda3/envs/myenv/lib/python3.8/site-packages (from pyasn1-modules>=0.2.1->google-auth<3,>=1.6.3->tensorboard<2.14,>=2.13->tensorflow) (0.6.0)\n",
      "Requirement already satisfied: oauthlib>=3.0.0 in /Users/xiaoyuxu/opt/anaconda3/envs/myenv/lib/python3.8/site-packages (from requests-oauthlib>=0.7.0->google-auth-oauthlib<1.1,>=0.5->tensorboard<2.14,>=2.13->tensorflow) (3.2.2)\n",
      "Using cached tensorflow-2.13.1-cp38-cp38-macosx_10_15_x86_64.whl (216.2 MB)\n",
      "Installing collected packages: tensorflow\n",
      "Successfully installed tensorflow-2.13.1\n"
     ]
    }
   ],
   "source": [
    "!pip install tensorflow"
   ]
  },
  {
   "cell_type": "code",
   "execution_count": 1,
   "id": "f0509719",
   "metadata": {},
   "outputs": [
    {
     "ename": "",
     "evalue": "",
     "output_type": "error",
     "traceback": [
      "\u001b[1;31m在目前儲存格或上一個儲存格中執行程式碼時，Kernel 已損毀。\n",
      "\u001b[1;31m請檢閱儲存格中的程式碼，找出失敗的可能原因。\n",
      "\u001b[1;31m如需詳細資訊，請按一下<a href='https://aka.ms/vscodeJupyterKernelCrash'>這裡</a>。\n",
      "\u001b[1;31m如需詳細資料，請檢視 Jupyter <a href='command:jupyter.viewOutput'>記錄</a>。"
     ]
    },
    {
     "ename": "",
     "evalue": "",
     "output_type": "error",
     "traceback": [
      "\u001b[1;31mCanceled future for execute_request message before replies were done"
     ]
    },
    {
     "ename": "",
     "evalue": "",
     "output_type": "error",
     "traceback": [
      "\u001b[1;31mCanceled future for execute_request message before replies were done. \n",
      "\u001b[1;31m如需詳細資料，請檢視 Jupyter <a href='command:jupyter.viewOutput'>記錄</a>。"
     ]
    },
    {
     "ename": "",
     "evalue": "",
     "output_type": "error",
     "traceback": [
      "\u001b[1;31m在目前儲存格或上一個儲存格中執行程式碼時，Kernel 已損毀。\n",
      "\u001b[1;31m請檢閱儲存格中的程式碼，找出失敗的可能原因。\n",
      "\u001b[1;31m如需詳細資訊，請按一下<a href='https://aka.ms/vscodeJupyterKernelCrash'>這裡</a>。\n",
      "\u001b[1;31m如需詳細資料，請檢視 Jupyter <a href='command:jupyter.viewOutput'>記錄</a>。"
     ]
    },
    {
     "ename": "",
     "evalue": "",
     "output_type": "error",
     "traceback": [
      "\u001b[1;31m在目前儲存格或上一個儲存格中執行程式碼時，Kernel 已損毀。\n",
      "\u001b[1;31m請檢閱儲存格中的程式碼，找出失敗的可能原因。\n",
      "\u001b[1;31m如需詳細資訊，請按一下<a href='https://aka.ms/vscodeJupyterKernelCrash'>這裡</a>。\n",
      "\u001b[1;31m如需詳細資料，請檢視 Jupyter <a href='command:jupyter.viewOutput'>記錄</a>。"
     ]
    },
    {
     "ename": "",
     "evalue": "",
     "output_type": "error",
     "traceback": [
      "\u001b[1;31m在目前儲存格或上一個儲存格中執行程式碼時，Kernel 已損毀。\n",
      "\u001b[1;31m請檢閱儲存格中的程式碼，找出失敗的可能原因。\n",
      "\u001b[1;31m如需詳細資訊，請按一下<a href='https://aka.ms/vscodeJupyterKernelCrash'>這裡</a>。\n",
      "\u001b[1;31m如需詳細資料，請檢視 Jupyter <a href='command:jupyter.viewOutput'>記錄</a>。"
     ]
    },
    {
     "ename": "",
     "evalue": "",
     "output_type": "error",
     "traceback": [
      "\u001b[1;31m在目前儲存格或上一個儲存格中執行程式碼時，Kernel 已損毀。\n",
      "\u001b[1;31m請檢閱儲存格中的程式碼，找出失敗的可能原因。\n",
      "\u001b[1;31m如需詳細資訊，請按一下<a href='https://aka.ms/vscodeJupyterKernelCrash'>這裡</a>。\n",
      "\u001b[1;31m如需詳細資料，請檢視 Jupyter <a href='command:jupyter.viewOutput'>記錄</a>。"
     ]
    }
   ],
   "source": [
    "import tensorflow as tf"
   ]
  },
  {
   "cell_type": "code",
   "execution_count": 1,
   "id": "b26b9180",
   "metadata": {},
   "outputs": [
    {
     "name": "stdout",
     "output_type": "stream",
     "text": [
      "Requirement already satisfied: numpy in /Users/xiaoyuxu/opt/anaconda3/envs/myenv/lib/python3.8/site-packages (1.24.3)\n",
      "Collecting numpy\n",
      "  Using cached numpy-1.24.4-cp38-cp38-macosx_10_9_x86_64.whl.metadata (5.6 kB)\n",
      "Requirement already satisfied: wheel in /Users/xiaoyuxu/opt/anaconda3/envs/myenv/lib/python3.8/site-packages (0.44.0)\n",
      "Requirement already satisfied: setuptools in /Users/xiaoyuxu/opt/anaconda3/envs/myenv/lib/python3.8/site-packages (72.1.0)\n",
      "Using cached numpy-1.24.4-cp38-cp38-macosx_10_9_x86_64.whl (19.8 MB)\n",
      "Installing collected packages: numpy\n",
      "  Attempting uninstall: numpy\n",
      "    Found existing installation: numpy 1.24.3\n",
      "    Uninstalling numpy-1.24.3:\n",
      "      Successfully uninstalled numpy-1.24.3\n",
      "\u001b[31mERROR: pip's dependency resolver does not currently take into account all the packages that are installed. This behaviour is the source of the following dependency conflicts.\n",
      "tensorflow 2.13.1 requires numpy<=1.24.3,>=1.22, but you have numpy 1.24.4 which is incompatible.\u001b[0m\u001b[31m\n",
      "\u001b[0mSuccessfully installed numpy-1.24.4\n"
     ]
    }
   ],
   "source": [
    "!pip install --upgrade numpy wheel setuptools"
   ]
  },
  {
   "cell_type": "code",
   "execution_count": 4,
   "id": "681deb72",
   "metadata": {},
   "outputs": [
    {
     "name": "stdout",
     "output_type": "stream",
     "text": [
      "Requirement already satisfied: wheel in /Users/xiaoyuxu/opt/anaconda3/envs/myenv/lib/python3.8/site-packages (0.44.0)\n",
      "Requirement already satisfied: setuptools in /Users/xiaoyuxu/opt/anaconda3/envs/myenv/lib/python3.8/site-packages (72.1.0)\n",
      "Requirement already satisfied: keras_preprocessing in /Users/xiaoyuxu/opt/anaconda3/envs/myenv/lib/python3.8/site-packages (1.1.2)\n",
      "Requirement already satisfied: numpy>=1.9.1 in /Users/xiaoyuxu/opt/anaconda3/envs/myenv/lib/python3.8/site-packages (from keras_preprocessing) (1.24.3)\n",
      "Requirement already satisfied: six>=1.9.0 in /Users/xiaoyuxu/opt/anaconda3/envs/myenv/lib/python3.8/site-packages (from keras_preprocessing) (1.16.0)\n"
     ]
    }
   ],
   "source": [
    "!pip install --upgrade wheel setuptools\n",
    "!pip install --upgrade keras_preprocessing"
   ]
  },
  {
   "cell_type": "code",
   "execution_count": 3,
   "id": "a5a2863a",
   "metadata": {},
   "outputs": [
    {
     "name": "stdout",
     "output_type": "stream",
     "text": [
      "Found existing installation: numpy 1.24.4\n",
      "Uninstalling numpy-1.24.4:\n",
      "  Successfully uninstalled numpy-1.24.4\n",
      "Collecting numpy==1.24.3\n",
      "  Using cached numpy-1.24.3-cp38-cp38-macosx_10_9_x86_64.whl.metadata (5.6 kB)\n",
      "Using cached numpy-1.24.3-cp38-cp38-macosx_10_9_x86_64.whl (19.8 MB)\n",
      "Installing collected packages: numpy\n",
      "Successfully installed numpy-1.24.3\n",
      "Requirement already satisfied: tensorflow==2.13.1 in /Users/xiaoyuxu/opt/anaconda3/envs/myenv/lib/python3.8/site-packages (2.13.1)\n",
      "Requirement already satisfied: absl-py>=1.0.0 in /Users/xiaoyuxu/opt/anaconda3/envs/myenv/lib/python3.8/site-packages (from tensorflow==2.13.1) (2.1.0)\n",
      "Requirement already satisfied: astunparse>=1.6.0 in /Users/xiaoyuxu/opt/anaconda3/envs/myenv/lib/python3.8/site-packages (from tensorflow==2.13.1) (1.6.3)\n",
      "Requirement already satisfied: flatbuffers>=23.1.21 in /Users/xiaoyuxu/opt/anaconda3/envs/myenv/lib/python3.8/site-packages (from tensorflow==2.13.1) (24.3.25)\n",
      "Requirement already satisfied: gast<=0.4.0,>=0.2.1 in /Users/xiaoyuxu/opt/anaconda3/envs/myenv/lib/python3.8/site-packages (from tensorflow==2.13.1) (0.4.0)\n",
      "Requirement already satisfied: google-pasta>=0.1.1 in /Users/xiaoyuxu/opt/anaconda3/envs/myenv/lib/python3.8/site-packages (from tensorflow==2.13.1) (0.2.0)\n",
      "Requirement already satisfied: h5py>=2.9.0 in /Users/xiaoyuxu/opt/anaconda3/envs/myenv/lib/python3.8/site-packages (from tensorflow==2.13.1) (3.11.0)\n",
      "Requirement already satisfied: libclang>=13.0.0 in /Users/xiaoyuxu/opt/anaconda3/envs/myenv/lib/python3.8/site-packages (from tensorflow==2.13.1) (18.1.1)\n",
      "Requirement already satisfied: numpy<=1.24.3,>=1.22 in /Users/xiaoyuxu/opt/anaconda3/envs/myenv/lib/python3.8/site-packages (from tensorflow==2.13.1) (1.24.3)\n",
      "Requirement already satisfied: opt-einsum>=2.3.2 in /Users/xiaoyuxu/opt/anaconda3/envs/myenv/lib/python3.8/site-packages (from tensorflow==2.13.1) (3.3.0)\n",
      "Requirement already satisfied: packaging in /Users/xiaoyuxu/opt/anaconda3/envs/myenv/lib/python3.8/site-packages (from tensorflow==2.13.1) (24.1)\n",
      "Requirement already satisfied: protobuf!=4.21.0,!=4.21.1,!=4.21.2,!=4.21.3,!=4.21.4,!=4.21.5,<5.0.0dev,>=3.20.3 in /Users/xiaoyuxu/opt/anaconda3/envs/myenv/lib/python3.8/site-packages (from tensorflow==2.13.1) (4.25.4)\n",
      "Requirement already satisfied: setuptools in /Users/xiaoyuxu/opt/anaconda3/envs/myenv/lib/python3.8/site-packages (from tensorflow==2.13.1) (72.1.0)\n",
      "Requirement already satisfied: six>=1.12.0 in /Users/xiaoyuxu/opt/anaconda3/envs/myenv/lib/python3.8/site-packages (from tensorflow==2.13.1) (1.16.0)\n",
      "Requirement already satisfied: termcolor>=1.1.0 in /Users/xiaoyuxu/opt/anaconda3/envs/myenv/lib/python3.8/site-packages (from tensorflow==2.13.1) (2.4.0)\n",
      "Requirement already satisfied: typing-extensions<4.6.0,>=3.6.6 in /Users/xiaoyuxu/opt/anaconda3/envs/myenv/lib/python3.8/site-packages (from tensorflow==2.13.1) (4.5.0)\n",
      "Requirement already satisfied: wrapt>=1.11.0 in /Users/xiaoyuxu/opt/anaconda3/envs/myenv/lib/python3.8/site-packages (from tensorflow==2.13.1) (1.16.0)\n",
      "Requirement already satisfied: grpcio<2.0,>=1.24.3 in /Users/xiaoyuxu/opt/anaconda3/envs/myenv/lib/python3.8/site-packages (from tensorflow==2.13.1) (1.65.4)\n",
      "Requirement already satisfied: tensorboard<2.14,>=2.13 in /Users/xiaoyuxu/opt/anaconda3/envs/myenv/lib/python3.8/site-packages (from tensorflow==2.13.1) (2.13.0)\n",
      "Requirement already satisfied: tensorflow-estimator<2.14,>=2.13.0 in /Users/xiaoyuxu/opt/anaconda3/envs/myenv/lib/python3.8/site-packages (from tensorflow==2.13.1) (2.13.0)\n",
      "Requirement already satisfied: keras<2.14,>=2.13.1 in /Users/xiaoyuxu/opt/anaconda3/envs/myenv/lib/python3.8/site-packages (from tensorflow==2.13.1) (2.13.1)\n",
      "Requirement already satisfied: tensorflow-io-gcs-filesystem>=0.23.1 in /Users/xiaoyuxu/opt/anaconda3/envs/myenv/lib/python3.8/site-packages (from tensorflow==2.13.1) (0.34.0)\n",
      "Requirement already satisfied: wheel<1.0,>=0.23.0 in /Users/xiaoyuxu/opt/anaconda3/envs/myenv/lib/python3.8/site-packages (from astunparse>=1.6.0->tensorflow==2.13.1) (0.44.0)\n",
      "Requirement already satisfied: google-auth<3,>=1.6.3 in /Users/xiaoyuxu/opt/anaconda3/envs/myenv/lib/python3.8/site-packages (from tensorboard<2.14,>=2.13->tensorflow==2.13.1) (2.33.0)\n",
      "Requirement already satisfied: google-auth-oauthlib<1.1,>=0.5 in /Users/xiaoyuxu/opt/anaconda3/envs/myenv/lib/python3.8/site-packages (from tensorboard<2.14,>=2.13->tensorflow==2.13.1) (1.0.0)\n",
      "Requirement already satisfied: markdown>=2.6.8 in /Users/xiaoyuxu/opt/anaconda3/envs/myenv/lib/python3.8/site-packages (from tensorboard<2.14,>=2.13->tensorflow==2.13.1) (3.6)\n",
      "Requirement already satisfied: requests<3,>=2.21.0 in /Users/xiaoyuxu/opt/anaconda3/envs/myenv/lib/python3.8/site-packages (from tensorboard<2.14,>=2.13->tensorflow==2.13.1) (2.32.3)\n",
      "Requirement already satisfied: tensorboard-data-server<0.8.0,>=0.7.0 in /Users/xiaoyuxu/opt/anaconda3/envs/myenv/lib/python3.8/site-packages (from tensorboard<2.14,>=2.13->tensorflow==2.13.1) (0.7.2)\n",
      "Requirement already satisfied: werkzeug>=1.0.1 in /Users/xiaoyuxu/opt/anaconda3/envs/myenv/lib/python3.8/site-packages (from tensorboard<2.14,>=2.13->tensorflow==2.13.1) (3.0.3)\n",
      "Requirement already satisfied: cachetools<6.0,>=2.0.0 in /Users/xiaoyuxu/opt/anaconda3/envs/myenv/lib/python3.8/site-packages (from google-auth<3,>=1.6.3->tensorboard<2.14,>=2.13->tensorflow==2.13.1) (5.4.0)\n",
      "Requirement already satisfied: pyasn1-modules>=0.2.1 in /Users/xiaoyuxu/opt/anaconda3/envs/myenv/lib/python3.8/site-packages (from google-auth<3,>=1.6.3->tensorboard<2.14,>=2.13->tensorflow==2.13.1) (0.4.0)\n",
      "Requirement already satisfied: rsa<5,>=3.1.4 in /Users/xiaoyuxu/opt/anaconda3/envs/myenv/lib/python3.8/site-packages (from google-auth<3,>=1.6.3->tensorboard<2.14,>=2.13->tensorflow==2.13.1) (4.9)\n",
      "Requirement already satisfied: requests-oauthlib>=0.7.0 in /Users/xiaoyuxu/opt/anaconda3/envs/myenv/lib/python3.8/site-packages (from google-auth-oauthlib<1.1,>=0.5->tensorboard<2.14,>=2.13->tensorflow==2.13.1) (2.0.0)\n",
      "Requirement already satisfied: importlib-metadata>=4.4 in /Users/xiaoyuxu/opt/anaconda3/envs/myenv/lib/python3.8/site-packages (from markdown>=2.6.8->tensorboard<2.14,>=2.13->tensorflow==2.13.1) (8.2.0)\n",
      "Requirement already satisfied: charset-normalizer<4,>=2 in /Users/xiaoyuxu/opt/anaconda3/envs/myenv/lib/python3.8/site-packages (from requests<3,>=2.21.0->tensorboard<2.14,>=2.13->tensorflow==2.13.1) (3.3.2)\n",
      "Requirement already satisfied: idna<4,>=2.5 in /Users/xiaoyuxu/opt/anaconda3/envs/myenv/lib/python3.8/site-packages (from requests<3,>=2.21.0->tensorboard<2.14,>=2.13->tensorflow==2.13.1) (3.7)\n",
      "Requirement already satisfied: urllib3<3,>=1.21.1 in /Users/xiaoyuxu/opt/anaconda3/envs/myenv/lib/python3.8/site-packages (from requests<3,>=2.21.0->tensorboard<2.14,>=2.13->tensorflow==2.13.1) (2.2.2)\n",
      "Requirement already satisfied: certifi>=2017.4.17 in /Users/xiaoyuxu/opt/anaconda3/envs/myenv/lib/python3.8/site-packages (from requests<3,>=2.21.0->tensorboard<2.14,>=2.13->tensorflow==2.13.1) (2024.7.4)\n",
      "Requirement already satisfied: MarkupSafe>=2.1.1 in /Users/xiaoyuxu/opt/anaconda3/envs/myenv/lib/python3.8/site-packages (from werkzeug>=1.0.1->tensorboard<2.14,>=2.13->tensorflow==2.13.1) (2.1.5)\n",
      "Requirement already satisfied: zipp>=0.5 in /Users/xiaoyuxu/opt/anaconda3/envs/myenv/lib/python3.8/site-packages (from importlib-metadata>=4.4->markdown>=2.6.8->tensorboard<2.14,>=2.13->tensorflow==2.13.1) (3.19.2)\n",
      "Requirement already satisfied: pyasn1<0.7.0,>=0.4.6 in /Users/xiaoyuxu/opt/anaconda3/envs/myenv/lib/python3.8/site-packages (from pyasn1-modules>=0.2.1->google-auth<3,>=1.6.3->tensorboard<2.14,>=2.13->tensorflow==2.13.1) (0.6.0)\n",
      "Requirement already satisfied: oauthlib>=3.0.0 in /Users/xiaoyuxu/opt/anaconda3/envs/myenv/lib/python3.8/site-packages (from requests-oauthlib>=0.7.0->google-auth-oauthlib<1.1,>=0.5->tensorboard<2.14,>=2.13->tensorflow==2.13.1) (3.2.2)\n"
     ]
    }
   ],
   "source": [
    "!pip uninstall -y numpy\n",
    "!pip install numpy==1.24.3\n",
    "!pip install tensorflow==2.13.1 --upgrade\n",
    "\n"
   ]
  },
  {
   "cell_type": "code",
   "execution_count": 1,
   "id": "36156d9d",
   "metadata": {},
   "outputs": [
    {
     "name": "stdout",
     "output_type": "stream",
     "text": [
      "NumPy version: 1.24.3\n"
     ]
    }
   ],
   "source": [
    "\n",
    "import numpy as np\n",
    "\n",
    "print(\"NumPy version:\", np.__version__)\n"
   ]
  },
  {
   "cell_type": "code",
   "execution_count": 4,
   "id": "9dd2dc75",
   "metadata": {},
   "outputs": [
    {
     "name": "stdout",
     "output_type": "stream",
     "text": [
      "Requirement already satisfied: tensorflow==2.13.1 in /Users/xiaoyuxu/opt/anaconda3/envs/myenv/lib/python3.8/site-packages (2.13.1)\n",
      "Requirement already satisfied: absl-py>=1.0.0 in /Users/xiaoyuxu/opt/anaconda3/envs/myenv/lib/python3.8/site-packages (from tensorflow==2.13.1) (2.1.0)\n",
      "Requirement already satisfied: astunparse>=1.6.0 in /Users/xiaoyuxu/opt/anaconda3/envs/myenv/lib/python3.8/site-packages (from tensorflow==2.13.1) (1.6.3)\n",
      "Requirement already satisfied: flatbuffers>=23.1.21 in /Users/xiaoyuxu/opt/anaconda3/envs/myenv/lib/python3.8/site-packages (from tensorflow==2.13.1) (24.3.25)\n",
      "Requirement already satisfied: gast<=0.4.0,>=0.2.1 in /Users/xiaoyuxu/opt/anaconda3/envs/myenv/lib/python3.8/site-packages (from tensorflow==2.13.1) (0.4.0)\n",
      "Requirement already satisfied: google-pasta>=0.1.1 in /Users/xiaoyuxu/opt/anaconda3/envs/myenv/lib/python3.8/site-packages (from tensorflow==2.13.1) (0.2.0)\n",
      "Requirement already satisfied: h5py>=2.9.0 in /Users/xiaoyuxu/opt/anaconda3/envs/myenv/lib/python3.8/site-packages (from tensorflow==2.13.1) (3.11.0)\n",
      "Requirement already satisfied: libclang>=13.0.0 in /Users/xiaoyuxu/opt/anaconda3/envs/myenv/lib/python3.8/site-packages (from tensorflow==2.13.1) (18.1.1)\n",
      "Requirement already satisfied: numpy<=1.24.3,>=1.22 in /Users/xiaoyuxu/opt/anaconda3/envs/myenv/lib/python3.8/site-packages (from tensorflow==2.13.1) (1.24.3)\n",
      "Requirement already satisfied: opt-einsum>=2.3.2 in /Users/xiaoyuxu/opt/anaconda3/envs/myenv/lib/python3.8/site-packages (from tensorflow==2.13.1) (3.3.0)\n",
      "Requirement already satisfied: packaging in /Users/xiaoyuxu/opt/anaconda3/envs/myenv/lib/python3.8/site-packages (from tensorflow==2.13.1) (24.1)\n",
      "Requirement already satisfied: protobuf!=4.21.0,!=4.21.1,!=4.21.2,!=4.21.3,!=4.21.4,!=4.21.5,<5.0.0dev,>=3.20.3 in /Users/xiaoyuxu/opt/anaconda3/envs/myenv/lib/python3.8/site-packages (from tensorflow==2.13.1) (4.25.4)\n",
      "Requirement already satisfied: setuptools in /Users/xiaoyuxu/opt/anaconda3/envs/myenv/lib/python3.8/site-packages (from tensorflow==2.13.1) (72.1.0)\n",
      "Requirement already satisfied: six>=1.12.0 in /Users/xiaoyuxu/opt/anaconda3/envs/myenv/lib/python3.8/site-packages (from tensorflow==2.13.1) (1.16.0)\n",
      "Requirement already satisfied: termcolor>=1.1.0 in /Users/xiaoyuxu/opt/anaconda3/envs/myenv/lib/python3.8/site-packages (from tensorflow==2.13.1) (2.4.0)\n",
      "Requirement already satisfied: typing-extensions<4.6.0,>=3.6.6 in /Users/xiaoyuxu/opt/anaconda3/envs/myenv/lib/python3.8/site-packages (from tensorflow==2.13.1) (4.5.0)\n",
      "Requirement already satisfied: wrapt>=1.11.0 in /Users/xiaoyuxu/opt/anaconda3/envs/myenv/lib/python3.8/site-packages (from tensorflow==2.13.1) (1.16.0)\n",
      "Requirement already satisfied: grpcio<2.0,>=1.24.3 in /Users/xiaoyuxu/opt/anaconda3/envs/myenv/lib/python3.8/site-packages (from tensorflow==2.13.1) (1.65.4)\n",
      "Requirement already satisfied: tensorboard<2.14,>=2.13 in /Users/xiaoyuxu/opt/anaconda3/envs/myenv/lib/python3.8/site-packages (from tensorflow==2.13.1) (2.13.0)\n",
      "Requirement already satisfied: tensorflow-estimator<2.14,>=2.13.0 in /Users/xiaoyuxu/opt/anaconda3/envs/myenv/lib/python3.8/site-packages (from tensorflow==2.13.1) (2.13.0)\n",
      "Requirement already satisfied: keras<2.14,>=2.13.1 in /Users/xiaoyuxu/opt/anaconda3/envs/myenv/lib/python3.8/site-packages (from tensorflow==2.13.1) (2.13.1)\n",
      "Requirement already satisfied: tensorflow-io-gcs-filesystem>=0.23.1 in /Users/xiaoyuxu/opt/anaconda3/envs/myenv/lib/python3.8/site-packages (from tensorflow==2.13.1) (0.34.0)\n",
      "Requirement already satisfied: wheel<1.0,>=0.23.0 in /Users/xiaoyuxu/opt/anaconda3/envs/myenv/lib/python3.8/site-packages (from astunparse>=1.6.0->tensorflow==2.13.1) (0.44.0)\n",
      "Requirement already satisfied: google-auth<3,>=1.6.3 in /Users/xiaoyuxu/opt/anaconda3/envs/myenv/lib/python3.8/site-packages (from tensorboard<2.14,>=2.13->tensorflow==2.13.1) (2.33.0)\n",
      "Requirement already satisfied: google-auth-oauthlib<1.1,>=0.5 in /Users/xiaoyuxu/opt/anaconda3/envs/myenv/lib/python3.8/site-packages (from tensorboard<2.14,>=2.13->tensorflow==2.13.1) (1.0.0)\n",
      "Requirement already satisfied: markdown>=2.6.8 in /Users/xiaoyuxu/opt/anaconda3/envs/myenv/lib/python3.8/site-packages (from tensorboard<2.14,>=2.13->tensorflow==2.13.1) (3.6)\n",
      "Requirement already satisfied: requests<3,>=2.21.0 in /Users/xiaoyuxu/opt/anaconda3/envs/myenv/lib/python3.8/site-packages (from tensorboard<2.14,>=2.13->tensorflow==2.13.1) (2.32.3)\n",
      "Requirement already satisfied: tensorboard-data-server<0.8.0,>=0.7.0 in /Users/xiaoyuxu/opt/anaconda3/envs/myenv/lib/python3.8/site-packages (from tensorboard<2.14,>=2.13->tensorflow==2.13.1) (0.7.2)\n",
      "Requirement already satisfied: werkzeug>=1.0.1 in /Users/xiaoyuxu/opt/anaconda3/envs/myenv/lib/python3.8/site-packages (from tensorboard<2.14,>=2.13->tensorflow==2.13.1) (3.0.3)\n",
      "Requirement already satisfied: cachetools<6.0,>=2.0.0 in /Users/xiaoyuxu/opt/anaconda3/envs/myenv/lib/python3.8/site-packages (from google-auth<3,>=1.6.3->tensorboard<2.14,>=2.13->tensorflow==2.13.1) (5.4.0)\n",
      "Requirement already satisfied: pyasn1-modules>=0.2.1 in /Users/xiaoyuxu/opt/anaconda3/envs/myenv/lib/python3.8/site-packages (from google-auth<3,>=1.6.3->tensorboard<2.14,>=2.13->tensorflow==2.13.1) (0.4.0)\n",
      "Requirement already satisfied: rsa<5,>=3.1.4 in /Users/xiaoyuxu/opt/anaconda3/envs/myenv/lib/python3.8/site-packages (from google-auth<3,>=1.6.3->tensorboard<2.14,>=2.13->tensorflow==2.13.1) (4.9)\n",
      "Requirement already satisfied: requests-oauthlib>=0.7.0 in /Users/xiaoyuxu/opt/anaconda3/envs/myenv/lib/python3.8/site-packages (from google-auth-oauthlib<1.1,>=0.5->tensorboard<2.14,>=2.13->tensorflow==2.13.1) (2.0.0)\n",
      "Requirement already satisfied: importlib-metadata>=4.4 in /Users/xiaoyuxu/opt/anaconda3/envs/myenv/lib/python3.8/site-packages (from markdown>=2.6.8->tensorboard<2.14,>=2.13->tensorflow==2.13.1) (8.2.0)\n",
      "Requirement already satisfied: charset-normalizer<4,>=2 in /Users/xiaoyuxu/opt/anaconda3/envs/myenv/lib/python3.8/site-packages (from requests<3,>=2.21.0->tensorboard<2.14,>=2.13->tensorflow==2.13.1) (3.3.2)\n",
      "Requirement already satisfied: idna<4,>=2.5 in /Users/xiaoyuxu/opt/anaconda3/envs/myenv/lib/python3.8/site-packages (from requests<3,>=2.21.0->tensorboard<2.14,>=2.13->tensorflow==2.13.1) (3.7)\n",
      "Requirement already satisfied: urllib3<3,>=1.21.1 in /Users/xiaoyuxu/opt/anaconda3/envs/myenv/lib/python3.8/site-packages (from requests<3,>=2.21.0->tensorboard<2.14,>=2.13->tensorflow==2.13.1) (2.2.2)\n",
      "Requirement already satisfied: certifi>=2017.4.17 in /Users/xiaoyuxu/opt/anaconda3/envs/myenv/lib/python3.8/site-packages (from requests<3,>=2.21.0->tensorboard<2.14,>=2.13->tensorflow==2.13.1) (2024.7.4)\n",
      "Requirement already satisfied: MarkupSafe>=2.1.1 in /Users/xiaoyuxu/opt/anaconda3/envs/myenv/lib/python3.8/site-packages (from werkzeug>=1.0.1->tensorboard<2.14,>=2.13->tensorflow==2.13.1) (2.1.5)\n",
      "Requirement already satisfied: zipp>=0.5 in /Users/xiaoyuxu/opt/anaconda3/envs/myenv/lib/python3.8/site-packages (from importlib-metadata>=4.4->markdown>=2.6.8->tensorboard<2.14,>=2.13->tensorflow==2.13.1) (3.19.2)\n",
      "Requirement already satisfied: pyasn1<0.7.0,>=0.4.6 in /Users/xiaoyuxu/opt/anaconda3/envs/myenv/lib/python3.8/site-packages (from pyasn1-modules>=0.2.1->google-auth<3,>=1.6.3->tensorboard<2.14,>=2.13->tensorflow==2.13.1) (0.6.0)\n",
      "Requirement already satisfied: oauthlib>=3.0.0 in /Users/xiaoyuxu/opt/anaconda3/envs/myenv/lib/python3.8/site-packages (from requests-oauthlib>=0.7.0->google-auth-oauthlib<1.1,>=0.5->tensorboard<2.14,>=2.13->tensorflow==2.13.1) (3.2.2)\n"
     ]
    }
   ],
   "source": [
    "!pip install tensorflow==2.13.1 --upgrade\n"
   ]
  },
  {
   "cell_type": "code",
   "execution_count": null,
   "id": "558c6eb0",
   "metadata": {},
   "outputs": [
    {
     "ename": "",
     "evalue": "",
     "output_type": "error",
     "traceback": [
      "\u001b[1;31m無法啟動 Kernel。 \n",
      "\u001b[1;31mKernel is dead. \n",
      "\u001b[1;31m如需詳細資料，請檢視 Jupyter <a href='command:jupyter.viewOutput'>記錄</a>。"
     ]
    }
   ],
   "source": [
    "from tensorflow.keras.layers import LSTM, Dense"
   ]
  },
  {
   "cell_type": "markdown",
   "id": "8045a045",
   "metadata": {},
   "source": [
    "#### Forecasting directional movement of Crypto and stock data using LSTM with technical and stochastic volatility indicators"
   ]
  },
  {
   "cell_type": "markdown",
   "id": "a5d0750f",
   "metadata": {},
   "source": [
    "- In comparison with stock market, crypto is a special financial market that entails both high risks and high profit opportunities. Like stock, trading in cryptocurrencies often involves predicting the direction of the price movement (up or down). Traders can profit from buying low and selling high or short-selling high and buying back lower.\n",
    "\n",
    "- In this work, we used a popular deep learning tool called “long short-term memory” (LSTM), which has been shown to be very effective in many time-series forecasting problems, to make direction predictions in crypto and stock markets. \n",
    "\n",
    "- In recent years, deep learning tools, such as long short-term memory (LSTM), have become popular and have been found to be effective for many time-series forecasting problems. In general, such problems focus on determining the future values of time- series data with high accuracy. However, in direction prediction problems, accuracy can- not be defined as simply the difference between actual and predicted values. Therefore, a novel rule-based decision layer needs to be added after obtaining predictions from LSTMs.\n",
    "\n",
    "- Baseline LSTMs: As a baseline, SV-LSTM and TI-LSTM were tested separately. Also, by combining all of the features of these two into a single model, we generated a third baseline model: SV-TI-LSTM.\n",
    "\n",
    "- Proposed hybrid LSTM model: Our proposed model does not combine the features of the two baseline LSTMs into a single model. Instead, we propose a rule-based decision mechanism that acts as a kind of postprocessing; it is used to combine the results of the baselines into a final decision.\n",
    "\n",
    "- Model set up: The training phase was carried out with different numbers of iterations (50, 100, and 150); Only when a difference between two consecutive data points is greater/less than the threshold will the next data point be labeled as increase/decrease; \n",
    "\n",
    "- Post-processing rule: if any model's prediction is class-noact, the final decision is class-noact; if both models agree on the label, set the final decision as the label; if the predictions of the two models are different, let the final decision the one whose predition has higher prob, if the prob is the same set the prediction of the TI-LSTM model --> this is a conservative approach as it reduces the number of trades and favors only high-accuracy predictions. "
   ]
  },
  {
   "cell_type": "markdown",
   "id": "d08c846c",
   "metadata": {},
   "source": [
    "### Import Data"
   ]
  },
  {
   "cell_type": "code",
   "execution_count": null,
   "id": "18f19411",
   "metadata": {},
   "outputs": [],
   "source": [
    "btc_min_return = pd.read_csv('btc_min_return_selected.csv')\n",
    "btc_min_return.index =pd.to_datetime(btc_min_return['timestamp'])\n",
    "btc_min_return.drop(columns=['timestamp'],inplace=True)\n",
    "btc_min_return['return_scaled'] = btc_min_return['return']*100\n",
    "print(btc_min_return.columns)\n",
    "\n",
    "features = btc_min_return.columns.to_list()\n",
    "features.remove('return_scaled')\n",
    "TI_features = features[:6]+features[-17:]\n",
    "SV_features = features[:-17]"
   ]
  },
  {
   "cell_type": "markdown",
   "id": "867df2f7",
   "metadata": {},
   "source": [
    "### Generate labels"
   ]
  },
  {
   "cell_type": "code",
   "execution_count": null,
   "id": "3cda48e7",
   "metadata": {},
   "outputs": [],
   "source": [
    "# Create the target variable -- Quantile based threshold\n",
    "upper_quantile = btc_min_return['return_scaled'].quantile(0.7)\n",
    "upper_quantile = btc_min_return['return_scaled'].quantile(0.3)\n",
    "btc_min_return['target_quantile'] = 0\n",
    "btc_min_return.loc[btc_min_return['return_scaled'].shift(-1) > upper_quantile, 'target_quantile'] = 1\n",
    "btc_min_return.loc[btc_min_return['return_scaled'].shift(-1) < lower_quantile, 'target_quantile'] = -1\n",
    "btc_min_return = btc_min_return.dropna()\n",
    "print([upper_quantile,lower_quantile])"
   ]
  },
  {
   "cell_type": "code",
   "execution_count": null,
   "id": "4bb59af9",
   "metadata": {},
   "outputs": [],
   "source": [
    "print(len(btc_min_return)/200/60/24) # roughly ten days per bin\n",
    "number_of_bins = 200\n",
    "bin_counts, bin_edges = np.histogram(btc_min_return['return_scaled'], bins=number_of_bins)\n",
    "\n",
    "sorted_indices = np.argsort(bin_counts)[::-1]\n",
    "sorted_bin_counts = bin_counts[sorted_indices]\n",
    "sorted_bin_edges = bin_edges[sorted_indices]\n",
    "\n",
    "original_bin_edges = bin_edges\n",
    "cumulative_counts = np.cumsum(sorted_bin_counts)\n",
    "total_count = len(btc_min_return)  \n",
    "threshold_count_upper = 0.7 * total_count\n",
    "threshold_count_lower = 0.3 * total_count\n",
    "\n",
    "threshold_bin_index_upper = np.where(cumulative_counts >= threshold_count_upper)[0][0]\n",
    "threshold_upper_bound = original_bin_edges[sorted_indices[threshold_bin_index_upper] + 1] if threshold_bin_index_upper < len(original_bin_edges) - 1 else original_bin_edges[-1]\n",
    "threshold_bin_index_lower = np.where(cumulative_counts >= threshold_count_lower)[0][0]\n",
    "threshold_lower_bound = original_bin_edges[sorted_indices[threshold_bin_index_lower]]\n",
    "print(f'Upper bound of the threshold value: {threshold_upper_bound}')\n",
    "print(f'Lower bound of the threshold value: {threshold_lower_bound}')\n",
    "\n",
    "btc_min_return['target_hist'] = 0\n",
    "btc_min_return.loc[btc_min_return['return_scaled'].shift(-1) > threshold_upper_bound, 'target_hist'] = 1\n",
    "btc_min_return.loc[btc_min_return['return_scaled'].shift(-1) < threshold_lower_bound, 'target_hist'] = -1\n",
    "btc_min_return = btc_min_return.dropna()\n",
    "\n",
    "# Plotting\n",
    "plt.figure(figsize=(14, 4))\n",
    "\n",
    "plt.subplot(1, 2, 1)\n",
    "plt.hist(btc_min_return['return_scaled'], bins=number_of_bins, edgecolor='k', alpha=0.7)\n",
    "plt.title('Histogram of BTC Min Returns')\n",
    "plt.xlabel('Return Scaled')\n",
    "plt.ylabel('Count')"
   ]
  },
  {
   "cell_type": "code",
   "execution_count": null,
   "id": "ed74855c",
   "metadata": {},
   "outputs": [],
   "source": [
    "# Function to calculate entropy\n",
    "def calculate_entropy(labels):\n",
    "    label_counts = np.bincount(labels.astype(int))\n",
    "    return entropy(label_counts, base=2)\n",
    "\n",
    "def calculate_best_thresholds(close_diff, threshold_upper_bound):\n",
    "    best_entropy_upper = -np.inf\n",
    "    best_threshold_upper = 0\n",
    "\n",
    "    # Upper threshold search\n",
    "    temp_threshold = 0\n",
    "    while temp_threshold < threshold_upper_bound:\n",
    "        labels = np.zeros(len(close_diff))\n",
    "        indexes_incr = np.where(close_diff > temp_threshold)[0]\n",
    "        indexes_decr = np.where(-close_diff > temp_threshold)[0]\n",
    "\n",
    "        labels[indexes_incr] = 2\n",
    "        labels[indexes_decr] = 1\n",
    "\n",
    "        current_entropy = calculate_entropy(labels)\n",
    "\n",
    "        if current_entropy > best_entropy_upper:\n",
    "            best_entropy_upper = current_entropy\n",
    "            best_threshold_upper = temp_threshold\n",
    "\n",
    "        temp_threshold += 0.00001\n",
    "\n",
    "    return best_threshold_upper\n",
    "\n",
    "# Applying the algorithm\n",
    "Entropy_upper_threshold = calculate_best_thresholds(btc_min_return['return_scaled'], threshold_upper_bound)\n",
    "print([Entropy_upper_threshold, -Entropy_upper_threshold])\n",
    "btc_min_return['target_entropy'] = 0\n",
    "btc_min_return.loc[btc_min_return['return_scaled'].shift(-1) > Entropy_upper_threshold, 'target_entropy'] = 1\n",
    "btc_min_return.loc[btc_min_return['return_scaled'].shift(-1) < -Entropy_upper_threshold, 'target_entropy'] = -1\n",
    "btc_min_return = btc_min_return.dropna()"
   ]
  },
  {
   "cell_type": "code",
   "execution_count": null,
   "id": "5ec41d6f",
   "metadata": {},
   "outputs": [],
   "source": [
    "df = btc_min_return.copy()\n",
    "X = df[features]\n",
    "y = df['target_entropy']\n",
    "\n",
    "# Split the data into training and test sets\n",
    "cutoff_date = '2022-01-01'\n",
    "X_train = X[btc_min_return.index < cutoff_date]\n",
    "scaler = StandardScaler()\n",
    "X_train= scaler.fit_transform(X_train)\n",
    "X_test = X[btc_min_return.index >= cutoff_date]\n",
    "scaler = StandardScaler()\n",
    "X_test= scaler.fit_transform(X_test)\n",
    "y_train = y[btc_min_return.index < cutoff_date]\n",
    "y_test = y[btc_min_return.index >= cutoff_date]\n"
   ]
  },
  {
   "cell_type": "code",
   "execution_count": null,
   "id": "0b9f0480",
   "metadata": {},
   "outputs": [],
   "source": [
    "X_TI = df[TI_features]\n",
    "X_train_TI = X_TI[df[TI_features].index < cutoff_date]\n",
    "scaler = StandardScaler()\n",
    "X_train_TI= scaler.fit_transform(X_train_TI)\n",
    "X_test_TI = X_TI[df[TI_features].index >= cutoff_date]\n",
    "scaler = StandardScaler()\n",
    "X_test_TI= scaler.fit_transform(X_test_TI)\n",
    "\n",
    "X_SV = df[SV_features]\n",
    "scaler = StandardScaler()\n",
    "X_SV= scaler.fit_transform(X_SV)\n",
    "X_train_SV = X_SV[df[SV_features].index < cutoff_date]\n",
    "X_test_SV = X_SV[df[SV_features].index >= cutoff_date]"
   ]
  },
  {
   "cell_type": "markdown",
   "id": "12633ad0",
   "metadata": {},
   "source": [
    "### Evaluation of different features' prediction power"
   ]
  },
  {
   "cell_type": "code",
   "execution_count": null,
   "id": "a7caac61",
   "metadata": {},
   "outputs": [],
   "source": [
    "correlations = X.corrwith(y).abs().sort_values(ascending=False)\n",
    "\n",
    "plt.figure(figsize=(6, 8))\n",
    "sns.barplot(x=correlations.values, y=correlations.index, palette='viridis')\n",
    "plt.title('Feature Correlations with Target')\n",
    "plt.xlabel('Absolute Correlation')\n",
    "plt.ylabel('Features')\n",
    "plt.show()"
   ]
  },
  {
   "cell_type": "markdown",
   "id": "a3270f0f",
   "metadata": {},
   "source": [
    "#### Recursive Feature Elimination (RFE)\n",
    "\n",
    "- Backward Selection: Train the model using the full set of features then remove the least important feature(s)."
   ]
  },
  {
   "cell_type": "code",
   "execution_count": null,
   "id": "f01e4bcc",
   "metadata": {},
   "outputs": [],
   "source": [
    "model = LinearRegression()\n",
    "rfe = RFE(model, n_features_to_select=5)\n",
    "rfe = rfe.fit(X_train, y_train)\n",
    "ranking = pd.Series(rfe.ranking_, index=X.columns).sort_values()\n",
    "\n",
    "plt.figure(figsize=(12, 6))\n",
    "ranking.plot(kind='bar')\n",
    "plt.xlabel('Features')\n",
    "plt.ylabel('Ranking')\n",
    "plt.title('Feature Ranking from Recursive Feature Elimination')\n",
    "plt.show()"
   ]
  },
  {
   "cell_type": "markdown",
   "id": "3eee5d33",
   "metadata": {},
   "source": [
    "#### Mutual Information \n",
    "\n",
    "$I(X,Y) = \\sum_{x \\in X} \\sum_{y \\in Y} p(x,y) \\log \\frac{p(x,y)}{p(x) p(y)}$;\n",
    "\n",
    "where $p(\\cdot)$ denote the probability distribution."
   ]
  },
  {
   "cell_type": "code",
   "execution_count": null,
   "id": "86b29ccf",
   "metadata": {},
   "outputs": [],
   "source": [
    "# Calculate mutual information between each feature and the target\n",
    "mi = mutual_info_classif(X_train, y_train)\n",
    "mi_series = pd.Series(mi, index=X.columns).sort_values(ascending=False)\n",
    "plt.figure(figsize=(12, 6))\n",
    "mi_series.plot(kind='bar')\n",
    "plt.xlabel('Features')\n",
    "plt.ylabel('Mutual Information')\n",
    "plt.title('Mutual Information between Features and Target')\n",
    "plt.show()"
   ]
  },
  {
   "cell_type": "markdown",
   "id": "b9ea89d0",
   "metadata": {},
   "source": [
    "#### XGBoost"
   ]
  },
  {
   "cell_type": "code",
   "execution_count": null,
   "id": "70f8de15",
   "metadata": {},
   "outputs": [],
   "source": [
    "xgb_model = xgb.XGBClassifier(\n",
    "    n_estimators=200,\n",
    "    max_depth=4,\n",
    "    subsample=0.8,\n",
    "    colsample_bytree=0.8,\n",
    "    random_state=42\n",
    ")\n",
    "label_encoder = LabelEncoder()\n",
    "y_encoded = label_encoder.fit_transform(y_train)\n",
    "xgb_model.fit(X_train, y_encoded)\n",
    "\n",
    "# Get feature importances\n",
    "importances = xgb_model.feature_importances_\n",
    "feature_importances = pd.Series(importances, index=X.columns).sort_values(ascending=False)\n",
    "\n",
    "# Plot feature importances\n",
    "plt.figure(figsize=(12, 6))\n",
    "feature_importances.plot(kind='bar')\n",
    "plt.xlabel('Features')\n",
    "plt.ylabel('Importance')\n",
    "plt.title('Feature Importances from XGBoost')\n",
    "plt.show()"
   ]
  },
  {
   "cell_type": "markdown",
   "id": "b1a69012",
   "metadata": {},
   "source": [
    "### Define Accuracy metrics\n",
    "\n",
    "- Type I error: FP (reject null while null is true)\n",
    "\n",
    "- Type II error: FN (not reject null while null is not true)\n",
    "\n",
    "- Precision: $\\frac{TP}{TP + FP}$\n",
    "\n",
    "- Recall: $\\frac{TP}{TP + FN}$\n",
    "\n",
    "- F1-Score: $2 \\cdot \\frac{\\text{Precision} \\cdot \\text{Recall}}{\\text{Precision} + \\text{Recall}}$\n",
    "\n",
    "- Accuracy_function:\n",
    "\n",
    "$\\text{Profit}-\\text{accuracy} = \\frac{TD + TI}{TD + TI + FDN+FIN+FID+FDI}$;\n",
    "\n",
    "s.t.\n",
    "TD: the number of true predictions decreases; FDN: the number of predictions of the no-action class decreases; FDI: the number of predictions of the increase class decreases and etc.\n",
    "\n",
    "\n"
   ]
  },
  {
   "cell_type": "code",
   "execution_count": null,
   "id": "db132e53",
   "metadata": {},
   "outputs": [],
   "source": [
    "def custom_accuracy(y_true, y_pred):\n",
    "    conf_matrix = confusion_matrix(y_true, y_pred)\n",
    "    true_neg = conf_matrix[0, 0]\n",
    "    true_pos = conf_matrix[2, 2]\n",
    "    neutral_pred_as_neg = conf_matrix[1, 0]\n",
    "    neutral_pred_as_pos = conf_matrix[1, 2]\n",
    "    neg_pred_as_pos = conf_matrix[0, 2]\n",
    "    pos_pred_as_neg = conf_matrix[2, 0]\n",
    "    total = conf_matrix.sum()\n",
    "    custom_acc = (true_neg + true_pos) / (total - (neutral_pred_as_neg + neutral_pred_as_pos + neg_pred_as_pos + pos_pred_as_neg))\n",
    "    return custom_acc"
   ]
  },
  {
   "cell_type": "markdown",
   "id": "79006a90",
   "metadata": {},
   "source": [
    "### Benchmark Model: Linear Regression Model"
   ]
  },
  {
   "cell_type": "code",
   "execution_count": null,
   "id": "c16e203c",
   "metadata": {},
   "outputs": [],
   "source": [
    "def plot_confusion_matrix(y_true, y_pred, class_names):\n",
    "    conf_matrix = confusion_matrix(y_true, y_pred)\n",
    "    conf_matrix_percentage = conf_matrix.astype('float') / conf_matrix.sum(axis=1)[:, np.newaxis] * 100\n",
    "\n",
    "    plt.figure(figsize=(4, 3))\n",
    "    sns.heatmap(conf_matrix_percentage, annot=True, fmt='.2f', cmap='Blues',\n",
    "                xticklabels=class_names,\n",
    "                yticklabels=class_names)\n",
    "    plt.xlabel('Predicted')\n",
    "    plt.ylabel('Actual')\n",
    "    plt.title('Confusion Matrix (Percentage)')\n",
    "    plt.show()\n",
    "\n",
    "def plot_roc_curve(y_true, y_pred_prob, class_names):\n",
    "    y_true_bin = label_binarize(y_true, classes=[-1, 0, 1])\n",
    "\n",
    "    fpr = dict()\n",
    "    tpr = dict()\n",
    "    roc_auc = dict()\n",
    "\n",
    "    for i, class_label in enumerate(class_names):\n",
    "        fpr[i], tpr[i], _ = roc_curve(y_true_bin[:, i], y_pred_prob[:, i])\n",
    "        roc_auc[i] = roc_auc_score(y_true_bin[:, i], y_pred_prob[:, i])\n",
    "\n",
    "    plt.figure(figsize=(4, 3))\n",
    "    for i, class_label in enumerate(class_names):\n",
    "        plt.plot(fpr[i], tpr[i], label=f'Class {class_names[class_label]} (area = {roc_auc[i]:0.2f})')\n",
    "    plt.plot([0, 1], [0, 1], 'k--')\n",
    "    plt.xlim([0.0, 1.0])\n",
    "    plt.ylim([0.0, 1.05])\n",
    "    plt.xlabel('False Positive Rate')\n",
    "    plt.ylabel('True Positive Rate')\n",
    "    plt.title('Receiver Operating Characteristic (ROC) Curve')\n",
    "    plt.legend(loc=\"lower right\")\n",
    "    plt.show()\n",
    "    \n",
    "def train_and_evaluate_model(X_train, y_train, X_test, y_test, model):\n",
    "    model.fit(X_train, y_train)\n",
    "\n",
    "    # Predict discrete labels\n",
    "    y_pred = model.predict(X_test)\n",
    "\n",
    "    # Generate classification report\n",
    "    report_dict = classification_report(y_test, y_pred, output_dict=True)\n",
    "    report_df = pd.DataFrame(report_dict).transpose()\n",
    "    print(report_df)\n",
    "\n",
    "    # Compute custom accuracy\n",
    "    custom_acc = custom_accuracy(y_test, y_pred)\n",
    "    print(f'Custom Accuracy: {custom_acc:.2f}')\n",
    "\n",
    "    # Plot confusion matrix\n",
    "    class_names = {-1: 'Negative', 0: 'Neutral', 1: 'Positive'}\n",
    "    plot_confusion_matrix(y_test, y_pred, list(class_names.values()))\n",
    "\n",
    "    # Compute probabilities for ROC curve\n",
    "    y_pred_prob = model.predict_proba(X_test)\n",
    "\n",
    "    # Plot ROC curve\n",
    "    plot_roc_curve(y_test, y_pred_prob, class_names)"
   ]
  },
  {
   "cell_type": "code",
   "execution_count": null,
   "id": "85d1601c",
   "metadata": {},
   "outputs": [],
   "source": [
    "model = LogisticRegression(max_iter=300, solver='lbfgs', multi_class='multinomial')\n",
    "train_and_evaluate_model(X_train_TI, y_train, X_test_TI, y_test, model)"
   ]
  },
  {
   "cell_type": "code",
   "execution_count": null,
   "id": "0a2286ff",
   "metadata": {},
   "outputs": [],
   "source": [
    "model = LogisticRegression(max_iter=300, solver='lbfgs', multi_class='multinomial')\n",
    "train_and_evaluate_model(X_train_SV, y_train, X_test_SV, y_test, model)"
   ]
  },
  {
   "cell_type": "markdown",
   "id": "913f1997",
   "metadata": {},
   "source": [
    "### ML model: SLTM"
   ]
  },
  {
   "cell_type": "code",
   "execution_count": null,
   "id": "bdf6f18f",
   "metadata": {},
   "outputs": [],
   "source": [
    "def create_and_train_lstm_model(X_train, y_train, X_test, y_test, epochs):\n",
    "    model = Sequential()\n",
    "    model.add(LSTM(50, input_shape=(X_train.shape[1], X_train.shape[2]), return_sequences=True))\n",
    "    model.add(LSTM(50))\n",
    "    model.add(Dense(y_train.shape[1], activation='softmax'))  \n",
    "\n",
    "    model.compile(optimizer='adam', loss='categorical_crossentropy', metrics=['accuracy'])\n",
    "\n",
    "    early_stopping = EarlyStopping(monitor='val_loss', patience=10, restore_best_weights=True)\n",
    "    \n",
    "    history = model.fit(X_train, y_train, epochs=epochs, batch_size=64, validation_split=0.2, callbacks=[early_stopping], verbose=1)\n",
    "    \n",
    "    y_pred_prob = model.predict(X_test)\n",
    "    y_pred = np.argmax(y_pred_prob, axis=1)\n",
    "    y_test_labels = np.argmax(y_test, axis=1)\n",
    "\n",
    "    # Generate classification report\n",
    "    report_dict = classification_report(y_test_labels, y_pred, output_dict=True)\n",
    "    report_df = pd.DataFrame(report_dict).transpose()\n",
    "    print(f'Classification Report for {epochs} Epochs:\\n', report_df)\n",
    "\n",
    "    # Custom accuracy\n",
    "    custom_acc = custom_accuracy(y_test_labels, y_pred)\n",
    "    print(f'Custom Accuracy for {epochs} Epochs: {custom_acc:.2f}')\n",
    "\n",
    "    # Plot confusion matrix\n",
    "    class_names = [-1, 0, 1]\n",
    "    plot_confusion_matrix(y_test_labels, y_pred, class_names)\n",
    "\n",
    "    # Plot ROC curve\n",
    "    plot_roc_curve(y_test_labels, y_pred_prob, class_names)\n",
    "\n",
    "scaler = StandardScaler()\n",
    "X_train = scaler.fit_transform(X_train.reshape(-1, X_train.shape[-1])).reshape(X_train.shape)\n",
    "X_test = scaler.transform(X_test.reshape(-1, X_test.shape[-1])).reshape(X_test.shape)\n",
    "\n",
    "lb = LabelBinarizer()\n",
    "y_train = lb.fit_transform(y_train)  \n",
    "y_test = lb.transform(y_test) \n",
    "\n",
    "# Train and evaluate the model with different numbers of epochs\n",
    "for epochs in [50]:\n",
    "    print(f'\\nTraining LSTM Model with {epochs} Epochs')\n",
    "    create_and_train_lstm_model(X_train_TI, y_train, X_test_TI, y_test, epochs)"
   ]
  },
  {
   "cell_type": "code",
   "execution_count": null,
   "id": "6a939110",
   "metadata": {},
   "outputs": [],
   "source": []
  },
  {
   "cell_type": "code",
   "execution_count": null,
   "id": "18eb157e",
   "metadata": {},
   "outputs": [],
   "source": []
  },
  {
   "cell_type": "code",
   "execution_count": null,
   "id": "1374a1f9",
   "metadata": {},
   "outputs": [],
   "source": []
  }
 ],
 "metadata": {
  "kernelspec": {
   "display_name": "Python 3 (ipykernel)",
   "language": "python",
   "name": "python3"
  },
  "language_info": {
   "codemirror_mode": {
    "name": "ipython",
    "version": 3
   },
   "file_extension": ".py",
   "mimetype": "text/x-python",
   "name": "python",
   "nbconvert_exporter": "python",
   "pygments_lexer": "ipython3",
   "version": "3.11.2"
  }
 },
 "nbformat": 4,
 "nbformat_minor": 5
}
